{
  "cells": [
    {
      "cell_type": "markdown",
      "metadata": {
        "id": "view-in-github",
        "colab_type": "text"
      },
      "source": [
        "<a href=\"https://colab.research.google.com/github/Firdaous2002/Experiments_thesis/blob/main/addition_of_discrete_features.ipynb\" target=\"_parent\"><img src=\"https://colab.research.google.com/assets/colab-badge.svg\" alt=\"Open In Colab\"/></a>"
      ]
    },
    {
      "cell_type": "code",
      "execution_count": 2,
      "metadata": {
        "colab": {
          "base_uri": "https://localhost:8080/"
        },
        "id": "0zYMetYrOXXT",
        "outputId": "4d0dc8dd-e7df-4d2e-84ca-a8dc728e7070"
      },
      "outputs": [
        {
          "output_type": "stream",
          "name": "stdout",
          "text": [
            "Requirement already satisfied: torch in /usr/local/lib/python3.10/dist-packages (2.5.1+cu121)\n",
            "Requirement already satisfied: filelock in /usr/local/lib/python3.10/dist-packages (from torch) (3.16.1)\n",
            "Requirement already satisfied: typing-extensions>=4.8.0 in /usr/local/lib/python3.10/dist-packages (from torch) (4.12.2)\n",
            "Requirement already satisfied: networkx in /usr/local/lib/python3.10/dist-packages (from torch) (3.4.2)\n",
            "Requirement already satisfied: jinja2 in /usr/local/lib/python3.10/dist-packages (from torch) (3.1.4)\n",
            "Requirement already satisfied: fsspec in /usr/local/lib/python3.10/dist-packages (from torch) (2024.10.0)\n",
            "Requirement already satisfied: sympy==1.13.1 in /usr/local/lib/python3.10/dist-packages (from torch) (1.13.1)\n",
            "Requirement already satisfied: mpmath<1.4,>=1.1.0 in /usr/local/lib/python3.10/dist-packages (from sympy==1.13.1->torch) (1.3.0)\n",
            "Requirement already satisfied: MarkupSafe>=2.0 in /usr/local/lib/python3.10/dist-packages (from jinja2->torch) (3.0.2)\n",
            "Collecting torch_geometric\n",
            "  Downloading torch_geometric-2.6.1-py3-none-any.whl.metadata (63 kB)\n",
            "\u001b[2K     \u001b[90m━━━━━━━━━━━━━━━━━━━━━━━━━━━━━━━━━━━━━━━━\u001b[0m \u001b[32m63.1/63.1 kB\u001b[0m \u001b[31m2.6 MB/s\u001b[0m eta \u001b[36m0:00:00\u001b[0m\n",
            "\u001b[?25hRequirement already satisfied: aiohttp in /usr/local/lib/python3.10/dist-packages (from torch_geometric) (3.11.2)\n",
            "Requirement already satisfied: fsspec in /usr/local/lib/python3.10/dist-packages (from torch_geometric) (2024.10.0)\n",
            "Requirement already satisfied: jinja2 in /usr/local/lib/python3.10/dist-packages (from torch_geometric) (3.1.4)\n",
            "Requirement already satisfied: numpy in /usr/local/lib/python3.10/dist-packages (from torch_geometric) (1.26.4)\n",
            "Requirement already satisfied: psutil>=5.8.0 in /usr/local/lib/python3.10/dist-packages (from torch_geometric) (5.9.5)\n",
            "Requirement already satisfied: pyparsing in /usr/local/lib/python3.10/dist-packages (from torch_geometric) (3.2.0)\n",
            "Requirement already satisfied: requests in /usr/local/lib/python3.10/dist-packages (from torch_geometric) (2.32.3)\n",
            "Requirement already satisfied: tqdm in /usr/local/lib/python3.10/dist-packages (from torch_geometric) (4.66.6)\n",
            "Requirement already satisfied: aiohappyeyeballs>=2.3.0 in /usr/local/lib/python3.10/dist-packages (from aiohttp->torch_geometric) (2.4.3)\n",
            "Requirement already satisfied: aiosignal>=1.1.2 in /usr/local/lib/python3.10/dist-packages (from aiohttp->torch_geometric) (1.3.1)\n",
            "Requirement already satisfied: attrs>=17.3.0 in /usr/local/lib/python3.10/dist-packages (from aiohttp->torch_geometric) (24.2.0)\n",
            "Requirement already satisfied: frozenlist>=1.1.1 in /usr/local/lib/python3.10/dist-packages (from aiohttp->torch_geometric) (1.5.0)\n",
            "Requirement already satisfied: multidict<7.0,>=4.5 in /usr/local/lib/python3.10/dist-packages (from aiohttp->torch_geometric) (6.1.0)\n",
            "Requirement already satisfied: propcache>=0.2.0 in /usr/local/lib/python3.10/dist-packages (from aiohttp->torch_geometric) (0.2.0)\n",
            "Requirement already satisfied: yarl<2.0,>=1.17.0 in /usr/local/lib/python3.10/dist-packages (from aiohttp->torch_geometric) (1.17.2)\n",
            "Requirement already satisfied: async-timeout<6.0,>=4.0 in /usr/local/lib/python3.10/dist-packages (from aiohttp->torch_geometric) (4.0.3)\n",
            "Requirement already satisfied: MarkupSafe>=2.0 in /usr/local/lib/python3.10/dist-packages (from jinja2->torch_geometric) (3.0.2)\n",
            "Requirement already satisfied: charset-normalizer<4,>=2 in /usr/local/lib/python3.10/dist-packages (from requests->torch_geometric) (3.4.0)\n",
            "Requirement already satisfied: idna<4,>=2.5 in /usr/local/lib/python3.10/dist-packages (from requests->torch_geometric) (3.10)\n",
            "Requirement already satisfied: urllib3<3,>=1.21.1 in /usr/local/lib/python3.10/dist-packages (from requests->torch_geometric) (2.2.3)\n",
            "Requirement already satisfied: certifi>=2017.4.17 in /usr/local/lib/python3.10/dist-packages (from requests->torch_geometric) (2024.8.30)\n",
            "Requirement already satisfied: typing-extensions>=4.1.0 in /usr/local/lib/python3.10/dist-packages (from multidict<7.0,>=4.5->aiohttp->torch_geometric) (4.12.2)\n",
            "Downloading torch_geometric-2.6.1-py3-none-any.whl (1.1 MB)\n",
            "\u001b[2K   \u001b[90m━━━━━━━━━━━━━━━━━━━━━━━━━━━━━━━━━━━━━━━━\u001b[0m \u001b[32m1.1/1.1 MB\u001b[0m \u001b[31m25.9 MB/s\u001b[0m eta \u001b[36m0:00:00\u001b[0m\n",
            "\u001b[?25hInstalling collected packages: torch_geometric\n",
            "Successfully installed torch_geometric-2.6.1\n"
          ]
        }
      ],
      "source": [
        "!pip install torch\n",
        "!pip install torch_geometric"
      ]
    },
    {
      "cell_type": "code",
      "execution_count": 3,
      "metadata": {
        "colab": {
          "base_uri": "https://localhost:8080/"
        },
        "id": "woE5ktorOhrs",
        "outputId": "8383095c-0670-4461-e90d-4e40df56c459"
      },
      "outputs": [
        {
          "output_type": "stream",
          "name": "stderr",
          "text": [
            "Downloading https://github.com/kimiyoung/planetoid/raw/master/data/ind.cora.x\n",
            "Downloading https://github.com/kimiyoung/planetoid/raw/master/data/ind.cora.tx\n",
            "Downloading https://github.com/kimiyoung/planetoid/raw/master/data/ind.cora.allx\n",
            "Downloading https://github.com/kimiyoung/planetoid/raw/master/data/ind.cora.y\n",
            "Downloading https://github.com/kimiyoung/planetoid/raw/master/data/ind.cora.ty\n",
            "Downloading https://github.com/kimiyoung/planetoid/raw/master/data/ind.cora.ally\n",
            "Downloading https://github.com/kimiyoung/planetoid/raw/master/data/ind.cora.graph\n",
            "Downloading https://github.com/kimiyoung/planetoid/raw/master/data/ind.cora.test.index\n",
            "Processing...\n"
          ]
        },
        {
          "output_type": "stream",
          "name": "stdout",
          "text": [
            "Data(x=[2708, 1433], edge_index=[2, 10556], y=[2708], train_mask=[2708], val_mask=[2708], test_mask=[2708])\n",
            "Number of nodes: 2708\n",
            "Number of edges: 10556\n",
            "Number of features per node: 1433\n",
            "Number of classes: 7\n"
          ]
        },
        {
          "output_type": "stream",
          "name": "stderr",
          "text": [
            "Done!\n"
          ]
        }
      ],
      "source": [
        "import torch\n",
        "import torch_geometric\n",
        "from torch_geometric.datasets import Planetoid\n",
        "from torch_geometric.data import DataLoader\n",
        "\n",
        "# Load the Cora dataset\n",
        "dataset = Planetoid(root='data/Planetoid', name='Cora')\n",
        "\n",
        "# Access the dataset (Cora has only one graph)\n",
        "data = dataset[0]  # Single graph in Cora\n",
        "print(data)\n",
        "\n",
        "# Inspect the data\n",
        "print(\"Number of nodes:\", data.num_nodes)\n",
        "print(\"Number of edges:\", data.num_edges)\n",
        "print(\"Number of features per node:\", data.num_node_features)\n",
        "print(\"Number of classes:\", dataset.num_classes)\n"
      ]
    },
    {
      "cell_type": "code",
      "source": [
        "# Number of nodes to subset\n",
        "num_subset_nodes = 10\n",
        "\n",
        "# Subset the feature matrix (first 10 nodes)\n",
        "subset_V_x = dataset[0].x[:num_subset_nodes]\n",
        "\n",
        "# Subset the adjacency matrix (first 10 rows and columns)\n",
        "subset_adj = dataset[0].edge_index\n",
        "\n",
        "# Initialize a smaller perturbation matrix (for the subset)\n",
        "P_subset = torch.randn(num_subset_nodes, dataset.num_node_features)\n"
      ],
      "metadata": {
        "id": "36SztTAGQofI"
      },
      "execution_count": 10,
      "outputs": []
    },
    {
      "cell_type": "code",
      "execution_count": 11,
      "metadata": {
        "id": "grr6O0T_XMdu"
      },
      "outputs": [],
      "source": [
        "from typing import Tuple\n",
        "from torch import Tensor"
      ]
    },
    {
      "cell_type": "markdown",
      "source": [
        "#I tried to modify forward_prediction and forward methods in order to be able to have the ability to add features as well, not only deactivate them. Of course I only retuned the modified feature matrix to see if it modified the features as i wanted."
      ],
      "metadata": {
        "id": "9Ic7LQ2YbgbK"
      }
    },
    {
      "cell_type": "code",
      "execution_count": 12,
      "metadata": {
        "id": "aWQsmt-vW6ba"
      },
      "outputs": [],
      "source": [
        "def forward_prediction(V_x: Tensor, P_x: Tensor) -> Tuple[Tensor, Tensor, Tensor]:\n",
        "    \"\"\"\n",
        "    Thresholded forward pass for prediction.\n",
        "\n",
        "    Args:\n",
        "        V_x (Tensor): Original node feature matrix (num_nodes, num_features).\n",
        "\n",
        "    Returns:\n",
        "        Tuple[Tensor, Tensor, Tensor]:\n",
        "            - Model's output.\n",
        "            - Perturbed feature matrix.\n",
        "            - Raw perturbation matrix.\n",
        "    \"\"\"\n",
        "    # Apply tanh to P_x to create real-valued perturbations\n",
        "    real_perturbations = torch.tanh(P_x)\n",
        "\n",
        "    # Threshold perturbations to {-1, 0, +1} for discrete features\n",
        "    thresholded_perturbations = torch.where(\n",
        "        real_perturbations > 0.5, 1.0,  # Add feature\n",
        "        torch.where(real_perturbations < -0.5, -1.0, 0.0)  # Remove or retain\n",
        "    )\n",
        "    features_add = False\n",
        "    if not features_add:\n",
        "        # Apply thresholded perturbations (add or remove features)\n",
        "        V_pert = torch.clamp(V_x + thresholded_perturbations, 0, 1)\n",
        "    else:\n",
        "        # Use perturbations directly (already thresholded)\n",
        "        V_pert = torch.clamp(thresholded_perturbations, 0, 1)\n",
        "\n",
        "\n",
        "    return V_pert, real_perturbations\n",
        "\n"
      ]
    },
    {
      "cell_type": "code",
      "source": [
        "# Call the function on the subset\n",
        "V_pert, real_perturbations = forward_prediction(subset_V_x, P_subset)\n",
        "\n",
        "# Print outputs for inspection\n",
        "print(\"Perturbed Features (Subset):\\n\", V_pert)\n",
        "print(\"Real-Valued Perturbations (Subset):\\n\", real_perturbations)\n",
        "print(subset_V_x)\n"
      ],
      "metadata": {
        "colab": {
          "base_uri": "https://localhost:8080/"
        },
        "id": "jfla96t5Re2j",
        "outputId": "a83759f1-f283-4146-cec4-4e9a4d008f16"
      },
      "execution_count": 13,
      "outputs": [
        {
          "output_type": "stream",
          "name": "stdout",
          "text": [
            "Perturbed Features (Subset):\n",
            " tensor([[0., 0., 0.,  ..., 0., 0., 0.],\n",
            "        [1., 0., 0.,  ..., 0., 0., 0.],\n",
            "        [0., 0., 0.,  ..., 0., 0., 0.],\n",
            "        ...,\n",
            "        [0., 0., 0.,  ..., 0., 0., 0.],\n",
            "        [1., 1., 1.,  ..., 0., 0., 1.],\n",
            "        [0., 0., 1.,  ..., 1., 0., 1.]])\n",
            "Real-Valued Perturbations (Subset):\n",
            " tensor([[-0.0742, -0.2305, -0.0023,  ..., -0.6793, -0.5133, -0.6491],\n",
            "        [ 0.8900,  0.3226, -0.7839,  ..., -0.9449, -0.5405, -0.9916],\n",
            "        [-0.4408, -0.2273, -0.4385,  ..., -0.9444, -0.9412, -0.4204],\n",
            "        ...,\n",
            "        [ 0.1563, -0.4874, -0.1869,  ..., -0.4505,  0.0691,  0.4846],\n",
            "        [ 0.7161,  0.7757,  0.8231,  ...,  0.4804, -0.1561,  0.8709],\n",
            "        [ 0.1738, -0.8230,  0.7765,  ...,  0.6527, -0.5391,  0.7489]])\n",
            "tensor([[0., 0., 0.,  ..., 0., 0., 0.],\n",
            "        [0., 0., 0.,  ..., 0., 0., 0.],\n",
            "        [0., 0., 0.,  ..., 0., 0., 0.],\n",
            "        ...,\n",
            "        [0., 0., 0.,  ..., 0., 0., 0.],\n",
            "        [0., 0., 0.,  ..., 0., 0., 0.],\n",
            "        [0., 0., 0.,  ..., 0., 0., 0.]])\n"
          ]
        }
      ]
    },
    {
      "cell_type": "code",
      "source": [
        "# Get the features of the first node\n",
        "node_features = V_pert[0]\n",
        "\n",
        "# Find indices of ones\n",
        "indices_of_ones = torch.nonzero(node_features == 1).squeeze().tolist()\n",
        "\n",
        "# Find indices of zeros\n",
        "indices_of_zeros = torch.nonzero(node_features == 0).squeeze().tolist()\n",
        "\n",
        "print(\"Indices with value 1:\", indices_of_ones)\n",
        "print(\"Indices with value 0:\", indices_of_zeros)"
      ],
      "metadata": {
        "colab": {
          "base_uri": "https://localhost:8080/"
        },
        "id": "QydSlSmPakkv",
        "outputId": "77d725d6-7304-44a9-97aa-28dade8418cb"
      },
      "execution_count": 9,
      "outputs": [
        {
          "output_type": "stream",
          "name": "stdout",
          "text": [
            "Indices with value 1: [0, 1, 2, 4, 8, 13, 19, 21, 24, 26, 30, 31, 32, 34, 36, 39, 40, 43, 44, 46, 48, 50, 52, 57, 58, 67, 69, 73, 74, 86, 87, 88, 90, 93, 96, 97, 98, 114, 115, 116, 120, 125, 126, 130, 131, 132, 133, 135, 137, 144, 146, 147, 148, 154, 156, 159, 161, 163, 164, 165, 175, 176, 181, 187, 188, 189, 194, 198, 199, 201, 204, 210, 211, 217, 222, 223, 225, 226, 230, 233, 234, 235, 238, 243, 244, 246, 247, 249, 251, 253, 259, 262, 264, 266, 271, 273, 276, 277, 280, 281, 286, 289, 294, 297, 299, 300, 301, 303, 315, 316, 318, 320, 322, 327, 330, 334, 336, 337, 339, 340, 341, 342, 351, 352, 358, 361, 362, 374, 375, 380, 382, 383, 386, 395, 396, 399, 402, 406, 409, 412, 414, 415, 418, 422, 427, 436, 437, 444, 446, 447, 451, 453, 461, 462, 465, 467, 471, 472, 473, 474, 476, 478, 483, 489, 499, 502, 505, 506, 508, 513, 516, 520, 525, 526, 534, 539, 544, 546, 547, 549, 551, 552, 558, 573, 574, 575, 577, 578, 582, 585, 591, 592, 596, 602, 625, 634, 635, 637, 638, 639, 640, 641, 644, 647, 648, 650, 659, 660, 662, 673, 676, 678, 679, 680, 686, 687, 688, 690, 693, 695, 697, 698, 701, 702, 703, 705, 708, 710, 711, 712, 713, 720, 725, 727, 729, 733, 738, 740, 742, 744, 745, 756, 757, 759, 761, 763, 767, 772, 774, 775, 779, 780, 781, 783, 784, 792, 796, 803, 804, 806, 808, 811, 816, 818, 822, 824, 829, 835, 847, 853, 857, 860, 861, 864, 871, 877, 878, 880, 890, 891, 898, 900, 901, 904, 906, 907, 914, 915, 916, 917, 920, 923, 930, 932, 936, 939, 940, 944, 947, 950, 957, 969, 972, 976, 979, 988, 991, 996, 997, 998, 1001, 1003, 1012, 1015, 1031, 1032, 1036, 1040, 1041, 1043, 1044, 1045, 1046, 1048, 1051, 1052, 1053, 1054, 1058, 1062, 1064, 1068, 1069, 1070, 1073, 1075, 1079, 1081, 1084, 1086, 1087, 1092, 1093, 1095, 1098, 1101, 1105, 1106, 1108, 1113, 1116, 1118, 1127, 1128, 1131, 1132, 1141, 1155, 1159, 1160, 1162, 1165, 1166, 1168, 1172, 1177, 1182, 1184, 1186, 1187, 1189, 1191, 1194, 1197, 1198, 1201, 1203, 1205, 1206, 1209, 1213, 1215, 1217, 1218, 1223, 1229, 1233, 1234, 1243, 1246, 1252, 1253, 1256, 1258, 1271, 1274, 1279, 1280, 1284, 1285, 1290, 1294, 1301, 1302, 1306, 1312, 1313, 1314, 1320, 1328, 1342, 1345, 1351, 1352, 1356, 1359, 1361, 1363, 1364, 1366, 1372, 1373, 1376, 1393, 1394, 1395, 1396, 1398, 1401, 1403, 1406, 1408, 1410, 1411, 1415, 1416, 1417, 1421, 1422]\n",
            "Indices with value 0: [3, 5, 6, 7, 9, 10, 11, 12, 14, 15, 16, 17, 18, 20, 22, 23, 25, 27, 28, 29, 33, 35, 37, 38, 41, 42, 45, 47, 49, 51, 53, 54, 55, 56, 59, 60, 61, 62, 63, 64, 65, 66, 68, 70, 71, 72, 75, 76, 77, 78, 79, 80, 81, 82, 83, 84, 85, 89, 91, 92, 94, 95, 99, 100, 101, 102, 103, 104, 105, 106, 107, 108, 109, 110, 111, 112, 113, 117, 118, 119, 121, 122, 123, 124, 127, 128, 129, 134, 136, 138, 139, 140, 141, 142, 143, 145, 149, 150, 151, 152, 153, 155, 157, 158, 160, 162, 166, 167, 168, 169, 170, 171, 172, 173, 174, 177, 178, 179, 180, 182, 183, 184, 185, 186, 190, 191, 192, 193, 195, 196, 197, 200, 202, 203, 205, 206, 207, 208, 209, 212, 213, 214, 215, 216, 218, 219, 220, 221, 224, 227, 228, 229, 231, 232, 236, 237, 239, 240, 241, 242, 245, 248, 250, 252, 254, 255, 256, 257, 258, 260, 261, 263, 265, 267, 268, 269, 270, 272, 274, 275, 278, 279, 282, 283, 284, 285, 287, 288, 290, 291, 292, 293, 295, 296, 298, 302, 304, 305, 306, 307, 308, 309, 310, 311, 312, 313, 314, 317, 319, 321, 323, 324, 325, 326, 328, 329, 331, 332, 333, 335, 338, 343, 344, 345, 346, 347, 348, 349, 350, 353, 354, 355, 356, 357, 359, 360, 363, 364, 365, 366, 367, 368, 369, 370, 371, 372, 373, 376, 377, 378, 379, 381, 384, 385, 387, 388, 389, 390, 391, 392, 393, 394, 397, 398, 400, 401, 403, 404, 405, 407, 408, 410, 411, 413, 416, 417, 419, 420, 421, 423, 424, 425, 426, 428, 429, 430, 431, 432, 433, 434, 435, 438, 439, 440, 441, 442, 443, 445, 448, 449, 450, 452, 454, 455, 456, 457, 458, 459, 460, 463, 464, 466, 468, 469, 470, 475, 477, 479, 480, 481, 482, 484, 485, 486, 487, 488, 490, 491, 492, 493, 494, 495, 496, 497, 498, 500, 501, 503, 504, 507, 509, 510, 511, 512, 514, 515, 517, 518, 519, 521, 522, 523, 524, 527, 528, 529, 530, 531, 532, 533, 535, 536, 537, 538, 540, 541, 542, 543, 545, 548, 550, 553, 554, 555, 556, 557, 559, 560, 561, 562, 563, 564, 565, 566, 567, 568, 569, 570, 571, 572, 576, 579, 580, 581, 583, 584, 586, 587, 588, 589, 590, 593, 594, 595, 597, 598, 599, 600, 601, 603, 604, 605, 606, 607, 608, 609, 610, 611, 612, 613, 614, 615, 616, 617, 618, 619, 620, 621, 622, 623, 624, 626, 627, 628, 629, 630, 631, 632, 633, 636, 642, 643, 645, 646, 649, 651, 652, 653, 654, 655, 656, 657, 658, 661, 663, 664, 665, 666, 667, 668, 669, 670, 671, 672, 674, 675, 677, 681, 682, 683, 684, 685, 689, 691, 692, 694, 696, 699, 700, 704, 706, 707, 709, 714, 715, 716, 717, 718, 719, 721, 722, 723, 724, 726, 728, 730, 731, 732, 734, 735, 736, 737, 739, 741, 743, 746, 747, 748, 749, 750, 751, 752, 753, 754, 755, 758, 760, 762, 764, 765, 766, 768, 769, 770, 771, 773, 776, 777, 778, 782, 785, 786, 787, 788, 789, 790, 791, 793, 794, 795, 797, 798, 799, 800, 801, 802, 805, 807, 809, 810, 812, 813, 814, 815, 817, 819, 820, 821, 823, 825, 826, 827, 828, 830, 831, 832, 833, 834, 836, 837, 838, 839, 840, 841, 842, 843, 844, 845, 846, 848, 849, 850, 851, 852, 854, 855, 856, 858, 859, 862, 863, 865, 866, 867, 868, 869, 870, 872, 873, 874, 875, 876, 879, 881, 882, 883, 884, 885, 886, 887, 888, 889, 892, 893, 894, 895, 896, 897, 899, 902, 903, 905, 908, 909, 910, 911, 912, 913, 918, 919, 921, 922, 924, 925, 926, 927, 928, 929, 931, 933, 934, 935, 937, 938, 941, 942, 943, 945, 946, 948, 949, 951, 952, 953, 954, 955, 956, 958, 959, 960, 961, 962, 963, 964, 965, 966, 967, 968, 970, 971, 973, 974, 975, 977, 978, 980, 981, 982, 983, 984, 985, 986, 987, 989, 990, 992, 993, 994, 995, 999, 1000, 1002, 1004, 1005, 1006, 1007, 1008, 1009, 1010, 1011, 1013, 1014, 1016, 1017, 1018, 1019, 1020, 1021, 1022, 1023, 1024, 1025, 1026, 1027, 1028, 1029, 1030, 1033, 1034, 1035, 1037, 1038, 1039, 1042, 1047, 1049, 1050, 1055, 1056, 1057, 1059, 1060, 1061, 1063, 1065, 1066, 1067, 1071, 1072, 1074, 1076, 1077, 1078, 1080, 1082, 1083, 1085, 1088, 1089, 1090, 1091, 1094, 1096, 1097, 1099, 1100, 1102, 1103, 1104, 1107, 1109, 1110, 1111, 1112, 1114, 1115, 1117, 1119, 1120, 1121, 1122, 1123, 1124, 1125, 1126, 1129, 1130, 1133, 1134, 1135, 1136, 1137, 1138, 1139, 1140, 1142, 1143, 1144, 1145, 1146, 1147, 1148, 1149, 1150, 1151, 1152, 1153, 1154, 1156, 1157, 1158, 1161, 1163, 1164, 1167, 1169, 1170, 1171, 1173, 1174, 1175, 1176, 1178, 1179, 1180, 1181, 1183, 1185, 1188, 1190, 1192, 1193, 1195, 1196, 1199, 1200, 1202, 1204, 1207, 1208, 1210, 1211, 1212, 1214, 1216, 1219, 1220, 1221, 1222, 1224, 1225, 1226, 1227, 1228, 1230, 1231, 1232, 1235, 1236, 1237, 1238, 1239, 1240, 1241, 1242, 1244, 1245, 1247, 1248, 1249, 1250, 1251, 1254, 1255, 1257, 1259, 1260, 1261, 1262, 1263, 1264, 1265, 1266, 1267, 1268, 1269, 1270, 1272, 1273, 1275, 1276, 1277, 1278, 1281, 1282, 1283, 1286, 1287, 1288, 1289, 1291, 1292, 1293, 1295, 1296, 1297, 1298, 1299, 1300, 1303, 1304, 1305, 1307, 1308, 1309, 1310, 1311, 1315, 1316, 1317, 1318, 1319, 1321, 1322, 1323, 1324, 1325, 1326, 1327, 1329, 1330, 1331, 1332, 1333, 1334, 1335, 1336, 1337, 1338, 1339, 1340, 1341, 1343, 1344, 1346, 1347, 1348, 1349, 1350, 1353, 1354, 1355, 1357, 1358, 1360, 1362, 1365, 1367, 1368, 1369, 1370, 1371, 1374, 1375, 1377, 1378, 1379, 1380, 1381, 1382, 1383, 1384, 1385, 1386, 1387, 1388, 1389, 1390, 1391, 1392, 1397, 1399, 1400, 1402, 1404, 1405, 1407, 1409, 1412, 1413, 1414, 1418, 1419, 1420, 1423, 1424, 1425, 1426, 1427, 1428, 1429, 1430, 1431, 1432]\n"
          ]
        }
      ]
    },
    {
      "cell_type": "code",
      "source": [
        "# Get the features of the first node\n",
        "node_features = subset_V_x[0]\n",
        "\n",
        "# Find indices of ones\n",
        "indices_of_ones = torch.nonzero(node_features == 1).squeeze().tolist()\n",
        "\n",
        "# Find indices of zeros\n",
        "indices_of_zeros = torch.nonzero(node_features == 0).squeeze().tolist()\n",
        "\n",
        "print(\"Indices with value 1:\", indices_of_ones)\n",
        "print(\"Indices with value 0:\", indices_of_zeros)"
      ],
      "metadata": {
        "colab": {
          "base_uri": "https://localhost:8080/"
        },
        "id": "t8esU6V3aq8d",
        "outputId": "e162476a-69ff-4256-e2da-c9cbcc168a06"
      },
      "execution_count": 10,
      "outputs": [
        {
          "output_type": "stream",
          "name": "stdout",
          "text": [
            "Indices with value 1: [19, 81, 146, 315, 774, 877, 1194, 1247, 1274]\n",
            "Indices with value 0: [0, 1, 2, 3, 4, 5, 6, 7, 8, 9, 10, 11, 12, 13, 14, 15, 16, 17, 18, 20, 21, 22, 23, 24, 25, 26, 27, 28, 29, 30, 31, 32, 33, 34, 35, 36, 37, 38, 39, 40, 41, 42, 43, 44, 45, 46, 47, 48, 49, 50, 51, 52, 53, 54, 55, 56, 57, 58, 59, 60, 61, 62, 63, 64, 65, 66, 67, 68, 69, 70, 71, 72, 73, 74, 75, 76, 77, 78, 79, 80, 82, 83, 84, 85, 86, 87, 88, 89, 90, 91, 92, 93, 94, 95, 96, 97, 98, 99, 100, 101, 102, 103, 104, 105, 106, 107, 108, 109, 110, 111, 112, 113, 114, 115, 116, 117, 118, 119, 120, 121, 122, 123, 124, 125, 126, 127, 128, 129, 130, 131, 132, 133, 134, 135, 136, 137, 138, 139, 140, 141, 142, 143, 144, 145, 147, 148, 149, 150, 151, 152, 153, 154, 155, 156, 157, 158, 159, 160, 161, 162, 163, 164, 165, 166, 167, 168, 169, 170, 171, 172, 173, 174, 175, 176, 177, 178, 179, 180, 181, 182, 183, 184, 185, 186, 187, 188, 189, 190, 191, 192, 193, 194, 195, 196, 197, 198, 199, 200, 201, 202, 203, 204, 205, 206, 207, 208, 209, 210, 211, 212, 213, 214, 215, 216, 217, 218, 219, 220, 221, 222, 223, 224, 225, 226, 227, 228, 229, 230, 231, 232, 233, 234, 235, 236, 237, 238, 239, 240, 241, 242, 243, 244, 245, 246, 247, 248, 249, 250, 251, 252, 253, 254, 255, 256, 257, 258, 259, 260, 261, 262, 263, 264, 265, 266, 267, 268, 269, 270, 271, 272, 273, 274, 275, 276, 277, 278, 279, 280, 281, 282, 283, 284, 285, 286, 287, 288, 289, 290, 291, 292, 293, 294, 295, 296, 297, 298, 299, 300, 301, 302, 303, 304, 305, 306, 307, 308, 309, 310, 311, 312, 313, 314, 316, 317, 318, 319, 320, 321, 322, 323, 324, 325, 326, 327, 328, 329, 330, 331, 332, 333, 334, 335, 336, 337, 338, 339, 340, 341, 342, 343, 344, 345, 346, 347, 348, 349, 350, 351, 352, 353, 354, 355, 356, 357, 358, 359, 360, 361, 362, 363, 364, 365, 366, 367, 368, 369, 370, 371, 372, 373, 374, 375, 376, 377, 378, 379, 380, 381, 382, 383, 384, 385, 386, 387, 388, 389, 390, 391, 392, 393, 394, 395, 396, 397, 398, 399, 400, 401, 402, 403, 404, 405, 406, 407, 408, 409, 410, 411, 412, 413, 414, 415, 416, 417, 418, 419, 420, 421, 422, 423, 424, 425, 426, 427, 428, 429, 430, 431, 432, 433, 434, 435, 436, 437, 438, 439, 440, 441, 442, 443, 444, 445, 446, 447, 448, 449, 450, 451, 452, 453, 454, 455, 456, 457, 458, 459, 460, 461, 462, 463, 464, 465, 466, 467, 468, 469, 470, 471, 472, 473, 474, 475, 476, 477, 478, 479, 480, 481, 482, 483, 484, 485, 486, 487, 488, 489, 490, 491, 492, 493, 494, 495, 496, 497, 498, 499, 500, 501, 502, 503, 504, 505, 506, 507, 508, 509, 510, 511, 512, 513, 514, 515, 516, 517, 518, 519, 520, 521, 522, 523, 524, 525, 526, 527, 528, 529, 530, 531, 532, 533, 534, 535, 536, 537, 538, 539, 540, 541, 542, 543, 544, 545, 546, 547, 548, 549, 550, 551, 552, 553, 554, 555, 556, 557, 558, 559, 560, 561, 562, 563, 564, 565, 566, 567, 568, 569, 570, 571, 572, 573, 574, 575, 576, 577, 578, 579, 580, 581, 582, 583, 584, 585, 586, 587, 588, 589, 590, 591, 592, 593, 594, 595, 596, 597, 598, 599, 600, 601, 602, 603, 604, 605, 606, 607, 608, 609, 610, 611, 612, 613, 614, 615, 616, 617, 618, 619, 620, 621, 622, 623, 624, 625, 626, 627, 628, 629, 630, 631, 632, 633, 634, 635, 636, 637, 638, 639, 640, 641, 642, 643, 644, 645, 646, 647, 648, 649, 650, 651, 652, 653, 654, 655, 656, 657, 658, 659, 660, 661, 662, 663, 664, 665, 666, 667, 668, 669, 670, 671, 672, 673, 674, 675, 676, 677, 678, 679, 680, 681, 682, 683, 684, 685, 686, 687, 688, 689, 690, 691, 692, 693, 694, 695, 696, 697, 698, 699, 700, 701, 702, 703, 704, 705, 706, 707, 708, 709, 710, 711, 712, 713, 714, 715, 716, 717, 718, 719, 720, 721, 722, 723, 724, 725, 726, 727, 728, 729, 730, 731, 732, 733, 734, 735, 736, 737, 738, 739, 740, 741, 742, 743, 744, 745, 746, 747, 748, 749, 750, 751, 752, 753, 754, 755, 756, 757, 758, 759, 760, 761, 762, 763, 764, 765, 766, 767, 768, 769, 770, 771, 772, 773, 775, 776, 777, 778, 779, 780, 781, 782, 783, 784, 785, 786, 787, 788, 789, 790, 791, 792, 793, 794, 795, 796, 797, 798, 799, 800, 801, 802, 803, 804, 805, 806, 807, 808, 809, 810, 811, 812, 813, 814, 815, 816, 817, 818, 819, 820, 821, 822, 823, 824, 825, 826, 827, 828, 829, 830, 831, 832, 833, 834, 835, 836, 837, 838, 839, 840, 841, 842, 843, 844, 845, 846, 847, 848, 849, 850, 851, 852, 853, 854, 855, 856, 857, 858, 859, 860, 861, 862, 863, 864, 865, 866, 867, 868, 869, 870, 871, 872, 873, 874, 875, 876, 878, 879, 880, 881, 882, 883, 884, 885, 886, 887, 888, 889, 890, 891, 892, 893, 894, 895, 896, 897, 898, 899, 900, 901, 902, 903, 904, 905, 906, 907, 908, 909, 910, 911, 912, 913, 914, 915, 916, 917, 918, 919, 920, 921, 922, 923, 924, 925, 926, 927, 928, 929, 930, 931, 932, 933, 934, 935, 936, 937, 938, 939, 940, 941, 942, 943, 944, 945, 946, 947, 948, 949, 950, 951, 952, 953, 954, 955, 956, 957, 958, 959, 960, 961, 962, 963, 964, 965, 966, 967, 968, 969, 970, 971, 972, 973, 974, 975, 976, 977, 978, 979, 980, 981, 982, 983, 984, 985, 986, 987, 988, 989, 990, 991, 992, 993, 994, 995, 996, 997, 998, 999, 1000, 1001, 1002, 1003, 1004, 1005, 1006, 1007, 1008, 1009, 1010, 1011, 1012, 1013, 1014, 1015, 1016, 1017, 1018, 1019, 1020, 1021, 1022, 1023, 1024, 1025, 1026, 1027, 1028, 1029, 1030, 1031, 1032, 1033, 1034, 1035, 1036, 1037, 1038, 1039, 1040, 1041, 1042, 1043, 1044, 1045, 1046, 1047, 1048, 1049, 1050, 1051, 1052, 1053, 1054, 1055, 1056, 1057, 1058, 1059, 1060, 1061, 1062, 1063, 1064, 1065, 1066, 1067, 1068, 1069, 1070, 1071, 1072, 1073, 1074, 1075, 1076, 1077, 1078, 1079, 1080, 1081, 1082, 1083, 1084, 1085, 1086, 1087, 1088, 1089, 1090, 1091, 1092, 1093, 1094, 1095, 1096, 1097, 1098, 1099, 1100, 1101, 1102, 1103, 1104, 1105, 1106, 1107, 1108, 1109, 1110, 1111, 1112, 1113, 1114, 1115, 1116, 1117, 1118, 1119, 1120, 1121, 1122, 1123, 1124, 1125, 1126, 1127, 1128, 1129, 1130, 1131, 1132, 1133, 1134, 1135, 1136, 1137, 1138, 1139, 1140, 1141, 1142, 1143, 1144, 1145, 1146, 1147, 1148, 1149, 1150, 1151, 1152, 1153, 1154, 1155, 1156, 1157, 1158, 1159, 1160, 1161, 1162, 1163, 1164, 1165, 1166, 1167, 1168, 1169, 1170, 1171, 1172, 1173, 1174, 1175, 1176, 1177, 1178, 1179, 1180, 1181, 1182, 1183, 1184, 1185, 1186, 1187, 1188, 1189, 1190, 1191, 1192, 1193, 1195, 1196, 1197, 1198, 1199, 1200, 1201, 1202, 1203, 1204, 1205, 1206, 1207, 1208, 1209, 1210, 1211, 1212, 1213, 1214, 1215, 1216, 1217, 1218, 1219, 1220, 1221, 1222, 1223, 1224, 1225, 1226, 1227, 1228, 1229, 1230, 1231, 1232, 1233, 1234, 1235, 1236, 1237, 1238, 1239, 1240, 1241, 1242, 1243, 1244, 1245, 1246, 1248, 1249, 1250, 1251, 1252, 1253, 1254, 1255, 1256, 1257, 1258, 1259, 1260, 1261, 1262, 1263, 1264, 1265, 1266, 1267, 1268, 1269, 1270, 1271, 1272, 1273, 1275, 1276, 1277, 1278, 1279, 1280, 1281, 1282, 1283, 1284, 1285, 1286, 1287, 1288, 1289, 1290, 1291, 1292, 1293, 1294, 1295, 1296, 1297, 1298, 1299, 1300, 1301, 1302, 1303, 1304, 1305, 1306, 1307, 1308, 1309, 1310, 1311, 1312, 1313, 1314, 1315, 1316, 1317, 1318, 1319, 1320, 1321, 1322, 1323, 1324, 1325, 1326, 1327, 1328, 1329, 1330, 1331, 1332, 1333, 1334, 1335, 1336, 1337, 1338, 1339, 1340, 1341, 1342, 1343, 1344, 1345, 1346, 1347, 1348, 1349, 1350, 1351, 1352, 1353, 1354, 1355, 1356, 1357, 1358, 1359, 1360, 1361, 1362, 1363, 1364, 1365, 1366, 1367, 1368, 1369, 1370, 1371, 1372, 1373, 1374, 1375, 1376, 1377, 1378, 1379, 1380, 1381, 1382, 1383, 1384, 1385, 1386, 1387, 1388, 1389, 1390, 1391, 1392, 1393, 1394, 1395, 1396, 1397, 1398, 1399, 1400, 1401, 1402, 1403, 1404, 1405, 1406, 1407, 1408, 1409, 1410, 1411, 1412, 1413, 1414, 1415, 1416, 1417, 1418, 1419, 1420, 1421, 1422, 1423, 1424, 1425, 1426, 1427, 1428, 1429, 1430, 1431, 1432]\n"
          ]
        }
      ]
    },
    {
      "cell_type": "code",
      "source": [
        "def forward(subset_V_x: Tensor, subset_adj: Tensor, P_subset: Tensor) -> Tensor:\n",
        "    \"\"\"\n",
        "    Differentiable forward pass for training on a subset of the data.\n",
        "\n",
        "    Args:\n",
        "        subset_V_x (Tensor): Subset node feature matrix (num_subset_nodes, num_features).\n",
        "        subset_adj (Tensor): Subset adjacency matrix (edges for the subset).\n",
        "        P_subset (Tensor): Perturbation matrix for the subset (num_subset_nodes, num_features).\n",
        "\n",
        "    Returns:\n",
        "        Tensor: Model's output after applying differentiable perturbations.\n",
        "    \"\"\"\n",
        "    # Apply tanh for differentiable perturbations\n",
        "    real_perturbations = torch.tanh(P_subset)\n",
        "    features_add = False\n",
        "    if not features_add:\n",
        "        # Apply perturbations to the input features\n",
        "        V_pert = torch.clamp(subset_V_x + real_perturbations, 0, 1)\n",
        "    else:\n",
        "        # Use perturbations directly\n",
        "        V_pert = torch.clamp(real_perturbations, 0, 1)\n",
        "\n",
        "    # Pass perturbed features through the model\n",
        "    return V_pert, real_perturbations\n"
      ],
      "metadata": {
        "id": "czqLL8yBbYCQ"
      },
      "execution_count": 11,
      "outputs": []
    },
    {
      "cell_type": "code",
      "source": [
        "V_pert, real_perturbations = forward(subset_V_x, subset_adj, P_subset)\n",
        "\n",
        "print(\"Output for the subset:\", V_pert)\n",
        "print(\"Output for the subset:\", real_perturbations)"
      ],
      "metadata": {
        "colab": {
          "base_uri": "https://localhost:8080/"
        },
        "id": "Dscj8-f8czGH",
        "outputId": "1fba5813-92f4-419e-d983-5c18a551257e"
      },
      "execution_count": 12,
      "outputs": [
        {
          "output_type": "stream",
          "name": "stdout",
          "text": [
            "Output for the subset: tensor([[0.7915, 0.9488, 0.5231,  ..., 0.0000, 0.3382, 0.0000],\n",
            "        [0.8915, 0.4844, 0.7070,  ..., 0.0000, 0.0000, 0.0309],\n",
            "        [0.9794, 0.2781, 0.7277,  ..., 0.1018, 0.0000, 0.2707],\n",
            "        ...,\n",
            "        [0.9683, 0.1273, 0.0000,  ..., 0.0000, 0.9812, 0.5251],\n",
            "        [0.0000, 0.3425, 0.0000,  ..., 0.7057, 0.0000, 0.3198],\n",
            "        [0.0000, 0.1821, 0.8987,  ..., 0.4518, 0.3862, 0.0000]])\n",
            "Output for the subset: tensor([[ 0.7915,  0.9488,  0.5231,  ..., -0.4209,  0.3382, -0.8648],\n",
            "        [ 0.8915,  0.4844,  0.7070,  ..., -0.2592, -0.3851,  0.0309],\n",
            "        [ 0.9794,  0.2781,  0.7277,  ...,  0.1018, -0.5680,  0.2707],\n",
            "        ...,\n",
            "        [ 0.9683,  0.1273, -0.6233,  ..., -0.6649,  0.9812,  0.5251],\n",
            "        [-0.0535,  0.3425, -0.8753,  ...,  0.7057, -0.9189,  0.3198],\n",
            "        [-0.9218,  0.1821,  0.8987,  ...,  0.4518,  0.3862, -0.5050]])\n"
          ]
        }
      ]
    },
    {
      "cell_type": "code",
      "source": [],
      "metadata": {
        "id": "scWx7CGxf51a"
      },
      "execution_count": null,
      "outputs": []
    }
  ],
  "metadata": {
    "colab": {
      "provenance": [],
      "gpuType": "T4",
      "authorship_tag": "ABX9TyPkNLeQF9ALlyQYMhvvGBb0",
      "include_colab_link": true
    },
    "kernelspec": {
      "display_name": "Python 3",
      "name": "python3"
    },
    "language_info": {
      "name": "python"
    },
    "accelerator": "GPU"
  },
  "nbformat": 4,
  "nbformat_minor": 0
}