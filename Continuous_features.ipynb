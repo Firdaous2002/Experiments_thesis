{
 "cells": [
  {
   "cell_type": "code",
   "execution_count": 86,
   "id": "33288517",
   "metadata": {},
   "outputs": [],
   "source": [
    "import torch\n",
    "import os\n",
    "from torch_geometric.data import Data\n",
    "from torch_geometric.data import InMemoryDataset\n",
    "import torch_geometric.utils\n",
    "import torch.nn.functional as F\n",
    "from torch import Tensor\n",
    "from typing import Tuple\n",
    "from typing import List\n",
    "\n",
    "# Define the paths to each file\n",
    "base_path = r'C:\\Users\\firda\\Downloads\\QM9\\QM9' \n",
    "adjacency_file = os.path.join(base_path, 'QM9_A.txt')\n",
    "graph_indicator_file = os.path.join(base_path, 'QM9_graph_indicator.txt')\n",
    "node_attributes_file = os.path.join(base_path, 'QM9_node_attributes.txt')  \n",
    "\n",
    "# Load adjacency list\n",
    "edges = []\n",
    "with open(adjacency_file, 'r') as f:\n",
    "    for line in f:\n",
    "        src, dst = map(int, line.strip().split(','))\n",
    "        edges.append((src - 1, dst - 1))  # Subtract 1 to start node indexing from 0\n",
    "\n",
    "# Load graph indicators\n",
    "graph_indicator = []\n",
    "with open(graph_indicator_file, 'r') as f:\n",
    "    for line in f:\n",
    "        graph_indicator.append(int(line.strip()) - 1)\n",
    "\n",
    "# Load node features\n",
    "node_features = []\n",
    "with open(node_attributes_file, 'r') as f:\n",
    "    for line in f:\n",
    "        features = list(map(float, line.strip().split(',')))\n",
    "        node_features.append(features)\n",
    "\n",
    "# Convert lists to tensors\n",
    "edge_index = torch.tensor(edges, dtype=torch.long).t().contiguous()\n",
    "node_features = torch.tensor(node_features, dtype=torch.float)\n",
    "graph_indicator = torch.tensor(graph_indicator, dtype=torch.long)\n",
    "#print(edge_index)\n",
    "#print(graph_indicator)\n",
    "#print(node_features)"
   ]
  },
  {
   "cell_type": "code",
   "execution_count": 84,
   "id": "64c24f18",
   "metadata": {},
   "outputs": [
    {
     "name": "stdout",
     "output_type": "stream",
     "text": [
      "[Data(x=[5, 16], edge_index=[2, 8]), Data(x=[4, 16], edge_index=[2, 6]), Data(x=[3, 16], edge_index=[2, 4]), Data(x=[4, 16], edge_index=[2, 6]), Data(x=[3, 16], edge_index=[2, 4]), Data(x=[4, 16], edge_index=[2, 6]), Data(x=[8, 16], edge_index=[2, 14]), Data(x=[6, 16], edge_index=[2, 10]), Data(x=[7, 16], edge_index=[2, 12]), Data(x=[6, 16], edge_index=[2, 10]), Data(x=[7, 16], edge_index=[2, 12]), Data(x=[6, 16], edge_index=[2, 10]), Data(x=[11, 16], edge_index=[2, 20]), Data(x=[9, 16], edge_index=[2, 16]), Data(x=[9, 16], edge_index=[2, 16]), Data(x=[9, 16], edge_index=[2, 18]), Data(x=[7, 16], edge_index=[2, 14]), Data(x=[10, 16], edge_index=[2, 18]), Data(x=[9, 16], edge_index=[2, 16]), Data(x=[8, 16], edge_index=[2, 14]), Data(x=[14, 16], edge_index=[2, 26]), Data(x=[12, 16], edge_index=[2, 22]), Data(x=[6, 16], edge_index=[2, 10]), Data(x=[5, 16], edge_index=[2, 8]), Data(x=[4, 16], edge_index=[2, 6]), Data(x=[6, 16], edge_index=[2, 10]), Data(x=[5, 16], edge_index=[2, 8]), Data(x=[6, 16], edge_index=[2, 10]), Data(x=[10, 16], edge_index=[2, 18]), Data(x=[10, 16], edge_index=[2, 18]), Data(x=[9, 16], edge_index=[2, 16]), Data(x=[8, 16], edge_index=[2, 14]), Data(x=[8, 16], edge_index=[2, 14]), Data(x=[7, 16], edge_index=[2, 12]), Data(x=[10, 16], edge_index=[2, 18]), Data(x=[9, 16], edge_index=[2, 16]), Data(x=[8, 16], edge_index=[2, 14]), Data(x=[8, 16], edge_index=[2, 14]), Data(x=[14, 16], edge_index=[2, 26]), Data(x=[12, 16], edge_index=[2, 22]), Data(x=[12, 16], edge_index=[2, 22]), Data(x=[10, 16], edge_index=[2, 18]), Data(x=[12, 16], edge_index=[2, 24]), Data(x=[10, 16], edge_index=[2, 20]), Data(x=[11, 16], edge_index=[2, 22]), Data(x=[10, 16], edge_index=[2, 20]), Data(x=[12, 16], edge_index=[2, 24]), Data(x=[10, 16], edge_index=[2, 20]), Data(x=[12, 16], edge_index=[2, 22]), Data(x=[10, 16], edge_index=[2, 20]), Data(x=[9, 16], edge_index=[2, 18]), Data(x=[9, 16], edge_index=[2, 18]), Data(x=[8, 16], edge_index=[2, 16]), Data(x=[17, 16], edge_index=[2, 32]), Data(x=[15, 16], edge_index=[2, 28]), Data(x=[9, 16], edge_index=[2, 16]), Data(x=[8, 16], edge_index=[2, 14]), Data(x=[8, 16], edge_index=[2, 14]), Data(x=[9, 16], edge_index=[2, 16]), Data(x=[9, 16], edge_index=[2, 16]), Data(x=[13, 16], edge_index=[2, 24]), Data(x=[12, 16], edge_index=[2, 22]), Data(x=[11, 16], edge_index=[2, 20]), Data(x=[11, 16], edge_index=[2, 20]), Data(x=[10, 16], edge_index=[2, 18]), Data(x=[13, 16], edge_index=[2, 24]), Data(x=[11, 16], edge_index=[2, 20]), Data(x=[12, 16], edge_index=[2, 22]), Data(x=[11, 16], edge_index=[2, 20]), Data(x=[13, 16], edge_index=[2, 24]), Data(x=[12, 16], edge_index=[2, 22]), Data(x=[12, 16], edge_index=[2, 22]), Data(x=[11, 16], edge_index=[2, 20]), Data(x=[12, 16], edge_index=[2, 22]), Data(x=[11, 16], edge_index=[2, 20]), Data(x=[10, 16], edge_index=[2, 18]), Data(x=[10, 16], edge_index=[2, 18]), Data(x=[10, 16], edge_index=[2, 18]), Data(x=[13, 16], edge_index=[2, 24]), Data(x=[17, 16], edge_index=[2, 32]), Data(x=[15, 16], edge_index=[2, 28]), Data(x=[15, 16], edge_index=[2, 28]), Data(x=[15, 16], edge_index=[2, 30]), Data(x=[13, 16], edge_index=[2, 26]), Data(x=[13, 16], edge_index=[2, 26]), Data(x=[10, 16], edge_index=[2, 20]), Data(x=[11, 16], edge_index=[2, 22]), Data(x=[10, 16], edge_index=[2, 20]), Data(x=[9, 16], edge_index=[2, 18]), Data(x=[10, 16], edge_index=[2, 20]), Data(x=[9, 16], edge_index=[2, 18]), Data(x=[15, 16], edge_index=[2, 30]), Data(x=[13, 16], edge_index=[2, 26]), Data(x=[13, 16], edge_index=[2, 26]), Data(x=[13, 16], edge_index=[2, 26]), Data(x=[11, 16], edge_index=[2, 22]), Data(x=[15, 16], edge_index=[2, 30]), Data(x=[13, 16], edge_index=[2, 26]), Data(x=[14, 16], edge_index=[2, 28]), Data(x=[13, 16], edge_index=[2, 26]), Data(x=[11, 16], edge_index=[2, 22]), Data(x=[13, 16], edge_index=[2, 28]), Data(x=[9, 16], edge_index=[2, 16]), Data(x=[8, 16], edge_index=[2, 14]), Data(x=[7, 16], edge_index=[2, 12]), Data(x=[9, 16], edge_index=[2, 16]), Data(x=[8, 16], edge_index=[2, 14]), Data(x=[9, 16], edge_index=[2, 16]), Data(x=[8, 16], edge_index=[2, 14]), Data(x=[8, 16], edge_index=[2, 14]), Data(x=[9, 16], edge_index=[2, 16]), Data(x=[8, 16], edge_index=[2, 14]), Data(x=[9, 16], edge_index=[2, 16]), Data(x=[11, 16], edge_index=[2, 20]), Data(x=[13, 16], edge_index=[2, 24]), Data(x=[12, 16], edge_index=[2, 22]), Data(x=[13, 16], edge_index=[2, 24]), Data(x=[12, 16], edge_index=[2, 22]), Data(x=[11, 16], edge_index=[2, 20]), Data(x=[11, 16], edge_index=[2, 20]), Data(x=[10, 16], edge_index=[2, 18]), Data(x=[11, 16], edge_index=[2, 20]), Data(x=[10, 16], edge_index=[2, 18]), Data(x=[13, 16], edge_index=[2, 24]), Data(x=[12, 16], edge_index=[2, 22]), Data(x=[11, 16], edge_index=[2, 20]), Data(x=[11, 16], edge_index=[2, 20]), Data(x=[11, 16], edge_index=[2, 20]), Data(x=[17, 16], edge_index=[2, 32]), Data(x=[15, 16], edge_index=[2, 28]), Data(x=[15, 16], edge_index=[2, 28]), Data(x=[15, 16], edge_index=[2, 28]), Data(x=[13, 16], edge_index=[2, 24]), Data(x=[13, 16], edge_index=[2, 24]), Data(x=[11, 16], edge_index=[2, 22]), Data(x=[10, 16], edge_index=[2, 20]), Data(x=[9, 16], edge_index=[2, 18]), Data(x=[10, 16], edge_index=[2, 20]), Data(x=[9, 16], edge_index=[2, 18]), Data(x=[8, 16], edge_index=[2, 16]), Data(x=[11, 16], edge_index=[2, 22]), Data(x=[10, 16], edge_index=[2, 20]), Data(x=[9, 16], edge_index=[2, 18]), Data(x=[10, 16], edge_index=[2, 20]), Data(x=[15, 16], edge_index=[2, 30]), Data(x=[13, 16], edge_index=[2, 26]), Data(x=[14, 16], edge_index=[2, 28]), Data(x=[13, 16], edge_index=[2, 26]), Data(x=[13, 16], edge_index=[2, 26]), Data(x=[12, 16], edge_index=[2, 24]), Data(x=[11, 16], edge_index=[2, 22]), Data(x=[13, 16], edge_index=[2, 26]), Data(x=[10, 16], edge_index=[2, 20]), Data(x=[11, 16], edge_index=[2, 22]), Data(x=[15, 16], edge_index=[2, 30]), Data(x=[13, 16], edge_index=[2, 26]), Data(x=[11, 16], edge_index=[2, 22]), Data(x=[13, 16], edge_index=[2, 28]), Data(x=[11, 16], edge_index=[2, 24]), Data(x=[11, 16], edge_index=[2, 24]), Data(x=[9, 16], edge_index=[2, 18]), Data(x=[8, 16], edge_index=[2, 16]), Data(x=[8, 16], edge_index=[2, 16]), Data(x=[8, 16], edge_index=[2, 16]), Data(x=[8, 16], edge_index=[2, 16]), Data(x=[8, 16], edge_index=[2, 16]), Data(x=[7, 16], edge_index=[2, 14]), Data(x=[7, 16], edge_index=[2, 14]), Data(x=[7, 16], edge_index=[2, 14]), Data(x=[6, 16], edge_index=[2, 12]), Data(x=[7, 16], edge_index=[2, 14]), Data(x=[6, 16], edge_index=[2, 12]), Data(x=[5, 16], edge_index=[2, 10]), Data(x=[11, 16], edge_index=[2, 20]), Data(x=[13, 16], edge_index=[2, 24]), Data(x=[15, 16], edge_index=[2, 28]), Data(x=[13, 16], edge_index=[2, 26]), Data(x=[12, 16], edge_index=[2, 24]), Data(x=[11, 16], edge_index=[2, 22]), Data(x=[5, 16], edge_index=[2, 8]), Data(x=[10, 16], edge_index=[2, 20]), Data(x=[9, 16], edge_index=[2, 18]), Data(x=[8, 16], edge_index=[2, 16]), Data(x=[13, 16], edge_index=[2, 26]), Data(x=[12, 16], edge_index=[2, 24]), Data(x=[11, 16], edge_index=[2, 22]), Data(x=[11, 16], edge_index=[2, 22]), Data(x=[12, 16], edge_index=[2, 24]), Data(x=[11, 16], edge_index=[2, 22]), Data(x=[10, 16], edge_index=[2, 20]), Data(x=[10, 16], edge_index=[2, 20]), Data(x=[11, 16], edge_index=[2, 22]), Data(x=[10, 16], edge_index=[2, 20]), Data(x=[10, 16], edge_index=[2, 20]), Data(x=[13, 16], edge_index=[2, 26]), Data(x=[12, 16], edge_index=[2, 24]), Data(x=[12, 16], edge_index=[2, 24]), Data(x=[11, 16], edge_index=[2, 22]), Data(x=[12, 16], edge_index=[2, 24]), Data(x=[11, 16], edge_index=[2, 22]), Data(x=[11, 16], edge_index=[2, 22]), Data(x=[10, 16], edge_index=[2, 20]), Data(x=[11, 16], edge_index=[2, 22]), Data(x=[10, 16], edge_index=[2, 20]), Data(x=[9, 16], edge_index=[2, 18]), Data(x=[13, 16], edge_index=[2, 26]), Data(x=[12, 16], edge_index=[2, 24]), Data(x=[12, 16], edge_index=[2, 24]), Data(x=[11, 16], edge_index=[2, 22]), Data(x=[10, 16], edge_index=[2, 20]), Data(x=[10, 16], edge_index=[2, 20]), Data(x=[9, 16], edge_index=[2, 18]), Data(x=[16, 16], edge_index=[2, 30]), Data(x=[15, 16], edge_index=[2, 28]), Data(x=[14, 16], edge_index=[2, 26]), Data(x=[14, 16], edge_index=[2, 26]), Data(x=[13, 16], edge_index=[2, 24]), Data(x=[16, 16], edge_index=[2, 30]), Data(x=[14, 16], edge_index=[2, 26]), Data(x=[18, 16], edge_index=[2, 34]), Data(x=[16, 16], edge_index=[2, 30]), Data(x=[20, 16], edge_index=[2, 38]), Data(x=[18, 16], edge_index=[2, 34]), Data(x=[18, 16], edge_index=[2, 34]), Data(x=[12, 16], edge_index=[2, 22]), Data(x=[11, 16], edge_index=[2, 20]), Data(x=[16, 16], edge_index=[2, 30]), Data(x=[14, 16], edge_index=[2, 26]), Data(x=[12, 16], edge_index=[2, 22]), Data(x=[11, 16], edge_index=[2, 20]), Data(x=[11, 16], edge_index=[2, 20]), Data(x=[10, 16], edge_index=[2, 18]), Data(x=[12, 16], edge_index=[2, 22]), Data(x=[11, 16], edge_index=[2, 20]), Data(x=[12, 16], edge_index=[2, 22]), Data(x=[12, 16], edge_index=[2, 22]), Data(x=[11, 16], edge_index=[2, 20]), Data(x=[11, 16], edge_index=[2, 20]), Data(x=[11, 16], edge_index=[2, 20]), Data(x=[11, 16], edge_index=[2, 20]), Data(x=[10, 16], edge_index=[2, 18]), Data(x=[10, 16], edge_index=[2, 18]), Data(x=[16, 16], edge_index=[2, 30]), Data(x=[15, 16], edge_index=[2, 28]), Data(x=[14, 16], edge_index=[2, 26]), Data(x=[13, 16], edge_index=[2, 24]), Data(x=[14, 16], edge_index=[2, 26]), Data(x=[16, 16], edge_index=[2, 30]), Data(x=[15, 16], edge_index=[2, 28]), Data(x=[14, 16], edge_index=[2, 26]), Data(x=[14, 16], edge_index=[2, 26]), Data(x=[15, 16], edge_index=[2, 28]), Data(x=[14, 16], edge_index=[2, 26]), Data(x=[16, 16], edge_index=[2, 30]), Data(x=[15, 16], edge_index=[2, 28]), Data(x=[15, 16], edge_index=[2, 28]), Data(x=[14, 16], edge_index=[2, 26]), Data(x=[14, 16], edge_index=[2, 26]), Data(x=[13, 16], edge_index=[2, 24]), Data(x=[13, 16], edge_index=[2, 24]), Data(x=[13, 16], edge_index=[2, 24]), Data(x=[13, 16], edge_index=[2, 24]), Data(x=[13, 16], edge_index=[2, 24]), Data(x=[18, 16], edge_index=[2, 34]), Data(x=[16, 16], edge_index=[2, 30]), Data(x=[20, 16], edge_index=[2, 38]), Data(x=[18, 16], edge_index=[2, 34]), Data(x=[18, 16], edge_index=[2, 34]), Data(x=[18, 16], edge_index=[2, 34]), Data(x=[16, 16], edge_index=[2, 30]), Data(x=[12, 16], edge_index=[2, 22]), Data(x=[12, 16], edge_index=[2, 22]), Data(x=[10, 16], edge_index=[2, 18]), Data(x=[10, 16], edge_index=[2, 18]), Data(x=[16, 16], edge_index=[2, 30]), Data(x=[15, 16], edge_index=[2, 28]), Data(x=[13, 16], edge_index=[2, 24]), Data(x=[13, 16], edge_index=[2, 24]), Data(x=[15, 16], edge_index=[2, 28]), Data(x=[14, 16], edge_index=[2, 26]), Data(x=[20, 16], edge_index=[2, 38]), Data(x=[18, 16], edge_index=[2, 34]), Data(x=[16, 16], edge_index=[2, 30]), Data(x=[18, 16], edge_index=[2, 36]), Data(x=[16, 16], edge_index=[2, 32]), Data(x=[16, 16], edge_index=[2, 32]), Data(x=[16, 16], edge_index=[2, 32]), Data(x=[14, 16], edge_index=[2, 28]), Data(x=[16, 16], edge_index=[2, 32]), Data(x=[14, 16], edge_index=[2, 28]), Data(x=[18, 16], edge_index=[2, 36]), Data(x=[16, 16], edge_index=[2, 32]), Data(x=[16, 16], edge_index=[2, 32]), Data(x=[17, 16], edge_index=[2, 34]), Data(x=[13, 16], edge_index=[2, 26]), Data(x=[14, 16], edge_index=[2, 28]), Data(x=[13, 16], edge_index=[2, 26]), Data(x=[12, 16], edge_index=[2, 24]), Data(x=[13, 16], edge_index=[2, 26]), Data(x=[12, 16], edge_index=[2, 24]), Data(x=[18, 16], edge_index=[2, 36]), Data(x=[16, 16], edge_index=[2, 32]), Data(x=[16, 16], edge_index=[2, 32]), Data(x=[15, 16], edge_index=[2, 30]), Data(x=[14, 16], edge_index=[2, 28]), Data(x=[16, 16], edge_index=[2, 34]), Data(x=[15, 16], edge_index=[2, 32]), Data(x=[14, 16], edge_index=[2, 30]), Data(x=[13, 16], edge_index=[2, 28]), Data(x=[8, 16], edge_index=[2, 14]), Data(x=[7, 16], edge_index=[2, 12]), Data(x=[6, 16], edge_index=[2, 10]), Data(x=[8, 16], edge_index=[2, 14]), Data(x=[7, 16], edge_index=[2, 12]), Data(x=[8, 16], edge_index=[2, 14]), Data(x=[12, 16], edge_index=[2, 22]), Data(x=[11, 16], edge_index=[2, 20]), Data(x=[10, 16], edge_index=[2, 18]), Data(x=[10, 16], edge_index=[2, 18]), Data(x=[9, 16], edge_index=[2, 16]), Data(x=[10, 16], edge_index=[2, 18]), Data(x=[9, 16], edge_index=[2, 16]), Data(x=[8, 16], edge_index=[2, 14]), Data(x=[12, 16], edge_index=[2, 22]), Data(x=[11, 16], edge_index=[2, 20]), Data(x=[10, 16], edge_index=[2, 18]), Data(x=[9, 16], edge_index=[2, 16]), Data(x=[12, 16], edge_index=[2, 22]), Data(x=[12, 16], edge_index=[2, 22]), Data(x=[11, 16], edge_index=[2, 20]), Data(x=[10, 16], edge_index=[2, 18]), Data(x=[11, 16], edge_index=[2, 20]), Data(x=[12, 16], edge_index=[2, 22]), Data(x=[12, 16], edge_index=[2, 22]), Data(x=[11, 16], edge_index=[2, 20]), Data(x=[11, 16], edge_index=[2, 20]), Data(x=[11, 16], edge_index=[2, 20]), Data(x=[10, 16], edge_index=[2, 18]), Data(x=[9, 16], edge_index=[2, 16]), Data(x=[10, 16], edge_index=[2, 18]), Data(x=[9, 16], edge_index=[2, 16]), Data(x=[12, 16], edge_index=[2, 22]), Data(x=[12, 16], edge_index=[2, 22]), Data(x=[11, 16], edge_index=[2, 20]), Data(x=[10, 16], edge_index=[2, 18]), Data(x=[10, 16], edge_index=[2, 18]), Data(x=[16, 16], edge_index=[2, 30]), Data(x=[14, 16], edge_index=[2, 26]), Data(x=[15, 16], edge_index=[2, 28]), Data(x=[14, 16], edge_index=[2, 26]), Data(x=[13, 16], edge_index=[2, 24]), Data(x=[14, 16], edge_index=[2, 26]), Data(x=[13, 16], edge_index=[2, 24]), Data(x=[13, 16], edge_index=[2, 24]), Data(x=[12, 16], edge_index=[2, 22]), Data(x=[12, 16], edge_index=[2, 22]), Data(x=[15, 16], edge_index=[2, 28]), Data(x=[14, 16], edge_index=[2, 26]), Data(x=[13, 16], edge_index=[2, 24]), Data(x=[16, 16], edge_index=[2, 30]), Data(x=[15, 16], edge_index=[2, 28]), Data(x=[14, 16], edge_index=[2, 26]), Data(x=[14, 16], edge_index=[2, 26]), Data(x=[13, 16], edge_index=[2, 24]), Data(x=[14, 16], edge_index=[2, 26]), Data(x=[14, 16], edge_index=[2, 26]), Data(x=[13, 16], edge_index=[2, 24]), Data(x=[12, 16], edge_index=[2, 22]), Data(x=[13, 16], edge_index=[2, 24]), Data(x=[12, 16], edge_index=[2, 22]), Data(x=[12, 16], edge_index=[2, 22]), Data(x=[11, 16], edge_index=[2, 20]), Data(x=[14, 16], edge_index=[2, 26]), Data(x=[16, 16], edge_index=[2, 30]), Data(x=[14, 16], edge_index=[2, 26]), Data(x=[15, 16], edge_index=[2, 28]), Data(x=[14, 16], edge_index=[2, 26]), Data(x=[12, 16], edge_index=[2, 22]), Data(x=[16, 16], edge_index=[2, 30]), Data(x=[20, 16], edge_index=[2, 38]), Data(x=[18, 16], edge_index=[2, 34]), Data(x=[18, 16], edge_index=[2, 34]), Data(x=[18, 16], edge_index=[2, 34]), Data(x=[16, 16], edge_index=[2, 30]), Data(x=[16, 16], edge_index=[2, 30]), Data(x=[14, 16], edge_index=[2, 26]), Data(x=[14, 16], edge_index=[2, 28]), Data(x=[13, 16], edge_index=[2, 26]), Data(x=[13, 16], edge_index=[2, 26]), Data(x=[12, 16], edge_index=[2, 24]), Data(x=[12, 16], edge_index=[2, 24]), Data(x=[11, 16], edge_index=[2, 22]), Data(x=[12, 16], edge_index=[2, 24]), Data(x=[12, 16], edge_index=[2, 24]), Data(x=[11, 16], edge_index=[2, 22]), Data(x=[14, 16], edge_index=[2, 28]), Data(x=[13, 16], edge_index=[2, 26]), Data(x=[12, 16], edge_index=[2, 24]), Data(x=[12, 16], edge_index=[2, 24]), Data(x=[16, 16], edge_index=[2, 32]), Data(x=[15, 16], edge_index=[2, 30]), Data(x=[14, 16], edge_index=[2, 28]), Data(x=[18, 16], edge_index=[2, 36]), Data(x=[16, 16], edge_index=[2, 32]), Data(x=[16, 16], edge_index=[2, 32]), Data(x=[16, 16], edge_index=[2, 32]), Data(x=[14, 16], edge_index=[2, 28]), Data(x=[14, 16], edge_index=[2, 28]), Data(x=[13, 16], edge_index=[2, 26]), Data(x=[13, 16], edge_index=[2, 26]), Data(x=[12, 16], edge_index=[2, 24]), Data(x=[13, 16], edge_index=[2, 26]), Data(x=[12, 16], edge_index=[2, 24]), Data(x=[13, 16], edge_index=[2, 26]), Data(x=[12, 16], edge_index=[2, 24]), Data(x=[11, 16], edge_index=[2, 22]), Data(x=[12, 16], edge_index=[2, 24]), Data(x=[11, 16], edge_index=[2, 22]), Data(x=[11, 16], edge_index=[2, 22]), Data(x=[10, 16], edge_index=[2, 20]), Data(x=[18, 16], edge_index=[2, 36]), Data(x=[16, 16], edge_index=[2, 32]), Data(x=[16, 16], edge_index=[2, 32]), Data(x=[14, 16], edge_index=[2, 28]), Data(x=[14, 16], edge_index=[2, 28]), Data(x=[11, 16], edge_index=[2, 22]), Data(x=[12, 16], edge_index=[2, 24]), Data(x=[11, 16], edge_index=[2, 22]), Data(x=[10, 16], edge_index=[2, 20]), Data(x=[9, 16], edge_index=[2, 18]), Data(x=[11, 16], edge_index=[2, 22]), Data(x=[12, 16], edge_index=[2, 24]), Data(x=[11, 16], edge_index=[2, 22]), Data(x=[13, 16], edge_index=[2, 26]), Data(x=[11, 16], edge_index=[2, 22]), Data(x=[11, 16], edge_index=[2, 22]), Data(x=[14, 16], edge_index=[2, 28]), Data(x=[13, 16], edge_index=[2, 26]), Data(x=[12, 16], edge_index=[2, 24]), Data(x=[12, 16], edge_index=[2, 24]), Data(x=[10, 16], edge_index=[2, 20]), Data(x=[12, 16], edge_index=[2, 24]), Data(x=[11, 16], edge_index=[2, 22]), Data(x=[10, 16], edge_index=[2, 20]), Data(x=[16, 16], edge_index=[2, 32]), Data(x=[14, 16], edge_index=[2, 28]), Data(x=[13, 16], edge_index=[2, 26]), Data(x=[16, 16], edge_index=[2, 32]), Data(x=[13, 16], edge_index=[2, 26]), Data(x=[14, 16], edge_index=[2, 28]), Data(x=[16, 16], edge_index=[2, 32]), Data(x=[13, 16], edge_index=[2, 26]), Data(x=[14, 16], edge_index=[2, 28]), Data(x=[14, 16], edge_index=[2, 28]), Data(x=[18, 16], edge_index=[2, 36]), Data(x=[16, 16], edge_index=[2, 32]), Data(x=[16, 16], edge_index=[2, 32]), Data(x=[14, 16], edge_index=[2, 28]), Data(x=[14, 16], edge_index=[2, 28]), Data(x=[16, 16], edge_index=[2, 32]), Data(x=[14, 16], edge_index=[2, 28]), Data(x=[18, 16], edge_index=[2, 36]), Data(x=[16, 16], edge_index=[2, 32]), Data(x=[17, 16], edge_index=[2, 34]), Data(x=[14, 16], edge_index=[2, 28]), Data(x=[12, 16], edge_index=[2, 24]), Data(x=[16, 16], edge_index=[2, 34]), Data(x=[14, 16], edge_index=[2, 30]), Data(x=[14, 16], edge_index=[2, 30]), Data(x=[14, 16], edge_index=[2, 30]), Data(x=[14, 16], edge_index=[2, 30]), Data(x=[12, 16], edge_index=[2, 26]), Data(x=[8, 16], edge_index=[2, 14]), Data(x=[7, 16], edge_index=[2, 12]), Data(x=[6, 16], edge_index=[2, 10]), Data(x=[12, 16], edge_index=[2, 22]), Data(x=[11, 16], edge_index=[2, 20]), Data(x=[10, 16], edge_index=[2, 18]), Data(x=[8, 16], edge_index=[2, 14]), Data(x=[7, 16], edge_index=[2, 12]), Data(x=[8, 16], edge_index=[2, 14]), Data(x=[11, 16], edge_index=[2, 20]), Data(x=[10, 16], edge_index=[2, 18]), Data(x=[12, 16], edge_index=[2, 22]), Data(x=[11, 16], edge_index=[2, 20]), Data(x=[11, 16], edge_index=[2, 20]), Data(x=[10, 16], edge_index=[2, 18]), Data(x=[10, 16], edge_index=[2, 18]), Data(x=[9, 16], edge_index=[2, 16]), Data(x=[11, 16], edge_index=[2, 20]), Data(x=[12, 16], edge_index=[2, 22]), Data(x=[11, 16], edge_index=[2, 20]), Data(x=[10, 16], edge_index=[2, 18]), Data(x=[12, 16], edge_index=[2, 22]), Data(x=[12, 16], edge_index=[2, 22]), Data(x=[11, 16], edge_index=[2, 20]), Data(x=[12, 16], edge_index=[2, 22]), Data(x=[12, 16], edge_index=[2, 22]), Data(x=[11, 16], edge_index=[2, 20]), Data(x=[12, 16], edge_index=[2, 22]), Data(x=[11, 16], edge_index=[2, 20]), Data(x=[10, 16], edge_index=[2, 18]), Data(x=[9, 16], edge_index=[2, 16]), Data(x=[12, 16], edge_index=[2, 22]), Data(x=[10, 16], edge_index=[2, 18]), Data(x=[16, 16], edge_index=[2, 30]), Data(x=[14, 16], edge_index=[2, 26]), Data(x=[12, 16], edge_index=[2, 22]), Data(x=[15, 16], edge_index=[2, 28]), Data(x=[14, 16], edge_index=[2, 26]), Data(x=[16, 16], edge_index=[2, 30]), Data(x=[14, 16], edge_index=[2, 26]), Data(x=[15, 16], edge_index=[2, 28]), Data(x=[16, 16], edge_index=[2, 30]), Data(x=[15, 16], edge_index=[2, 28]), Data(x=[14, 16], edge_index=[2, 26]), Data(x=[14, 16], edge_index=[2, 26]), Data(x=[13, 16], edge_index=[2, 24]), Data(x=[14, 16], edge_index=[2, 26]), Data(x=[13, 16], edge_index=[2, 24]), Data(x=[14, 16], edge_index=[2, 26]), Data(x=[13, 16], edge_index=[2, 24]), Data(x=[16, 16], edge_index=[2, 30]), Data(x=[15, 16], edge_index=[2, 28]), Data(x=[14, 16], edge_index=[2, 26]), Data(x=[14, 16], edge_index=[2, 26]), Data(x=[14, 16], edge_index=[2, 26]), Data(x=[14, 16], edge_index=[2, 26]), Data(x=[13, 16], edge_index=[2, 24]), Data(x=[13, 16], edge_index=[2, 24]), Data(x=[12, 16], edge_index=[2, 22]), Data(x=[20, 16], edge_index=[2, 38]), Data(x=[18, 16], edge_index=[2, 34]), Data(x=[18, 16], edge_index=[2, 34]), Data(x=[18, 16], edge_index=[2, 34]), Data(x=[16, 16], edge_index=[2, 30]), Data(x=[16, 16], edge_index=[2, 30]), Data(x=[16, 16], edge_index=[2, 30]), Data(x=[16, 16], edge_index=[2, 30]), Data(x=[14, 16], edge_index=[2, 28]), Data(x=[12, 16], edge_index=[2, 24]), Data(x=[12, 16], edge_index=[2, 24]), Data(x=[13, 16], edge_index=[2, 26]), Data(x=[12, 16], edge_index=[2, 24]), Data(x=[11, 16], edge_index=[2, 22]), Data(x=[11, 16], edge_index=[2, 22]), Data(x=[14, 16], edge_index=[2, 28]), Data(x=[12, 16], edge_index=[2, 24]), Data(x=[12, 16], edge_index=[2, 24]), Data(x=[13, 16], edge_index=[2, 26]), Data(x=[13, 16], edge_index=[2, 26]), Data(x=[18, 16], edge_index=[2, 36]), Data(x=[16, 16], edge_index=[2, 32]), Data(x=[16, 16], edge_index=[2, 32]), Data(x=[16, 16], edge_index=[2, 32]), Data(x=[14, 16], edge_index=[2, 28]), Data(x=[16, 16], edge_index=[2, 32]), Data(x=[14, 16], edge_index=[2, 28]), Data(x=[14, 16], edge_index=[2, 28]), Data(x=[14, 16], edge_index=[2, 28]), Data(x=[12, 16], edge_index=[2, 24]), Data(x=[13, 16], edge_index=[2, 26]), Data(x=[13, 16], edge_index=[2, 26]), Data(x=[12, 16], edge_index=[2, 24]), Data(x=[11, 16], edge_index=[2, 22]), Data(x=[12, 16], edge_index=[2, 24]), Data(x=[13, 16], edge_index=[2, 26]), Data(x=[14, 16], edge_index=[2, 28]), Data(x=[13, 16], edge_index=[2, 26]), Data(x=[12, 16], edge_index=[2, 24]), Data(x=[13, 16], edge_index=[2, 26]), Data(x=[13, 16], edge_index=[2, 26]), Data(x=[12, 16], edge_index=[2, 24]), Data(x=[14, 16], edge_index=[2, 28]), Data(x=[13, 16], edge_index=[2, 26]), Data(x=[12, 16], edge_index=[2, 24]), Data(x=[18, 16], edge_index=[2, 36]), Data(x=[16, 16], edge_index=[2, 32]), Data(x=[17, 16], edge_index=[2, 34]), Data(x=[16, 16], edge_index=[2, 32]), Data(x=[16, 16], edge_index=[2, 32]), Data(x=[15, 16], edge_index=[2, 30]), Data(x=[14, 16], edge_index=[2, 28]), Data(x=[16, 16], edge_index=[2, 32]), Data(x=[14, 16], edge_index=[2, 28]), Data(x=[15, 16], edge_index=[2, 30]), Data(x=[14, 16], edge_index=[2, 28]), Data(x=[13, 16], edge_index=[2, 26]), Data(x=[13, 16], edge_index=[2, 26]), Data(x=[12, 16], edge_index=[2, 24]), Data(x=[12, 16], edge_index=[2, 24]), Data(x=[11, 16], edge_index=[2, 22]), Data(x=[13, 16], edge_index=[2, 26]), Data(x=[12, 16], edge_index=[2, 24]), Data(x=[12, 16], edge_index=[2, 24]), Data(x=[11, 16], edge_index=[2, 22]), Data(x=[14, 16], edge_index=[2, 28]), Data(x=[13, 16], edge_index=[2, 26]), Data(x=[13, 16], edge_index=[2, 26]), Data(x=[12, 16], edge_index=[2, 24]), Data(x=[13, 16], edge_index=[2, 26]), Data(x=[12, 16], edge_index=[2, 24]), Data(x=[16, 16], edge_index=[2, 32]), Data(x=[15, 16], edge_index=[2, 30]), Data(x=[14, 16], edge_index=[2, 28]), Data(x=[18, 16], edge_index=[2, 36]), Data(x=[16, 16], edge_index=[2, 32]), Data(x=[17, 16], edge_index=[2, 34]), Data(x=[16, 16], edge_index=[2, 32]), Data(x=[17, 16], edge_index=[2, 34]), Data(x=[15, 16], edge_index=[2, 30]), Data(x=[16, 16], edge_index=[2, 32]), Data(x=[14, 16], edge_index=[2, 28]), Data(x=[14, 16], edge_index=[2, 28]), Data(x=[14, 16], edge_index=[2, 28]), Data(x=[13, 16], edge_index=[2, 26]), Data(x=[12, 16], edge_index=[2, 24]), Data(x=[13, 16], edge_index=[2, 26]), Data(x=[13, 16], edge_index=[2, 26]), Data(x=[12, 16], edge_index=[2, 24]), Data(x=[11, 16], edge_index=[2, 22]), Data(x=[12, 16], edge_index=[2, 24]), Data(x=[18, 16], edge_index=[2, 36]), Data(x=[16, 16], edge_index=[2, 32]), Data(x=[17, 16], edge_index=[2, 34]), Data(x=[16, 16], edge_index=[2, 32]), Data(x=[15, 16], edge_index=[2, 30]), Data(x=[14, 16], edge_index=[2, 28]), Data(x=[16, 16], edge_index=[2, 34]), Data(x=[14, 16], edge_index=[2, 30]), Data(x=[14, 16], edge_index=[2, 30]), Data(x=[13, 16], edge_index=[2, 28]), Data(x=[14, 16], edge_index=[2, 30]), Data(x=[12, 16], edge_index=[2, 26]), Data(x=[14, 16], edge_index=[2, 30]), Data(x=[12, 16], edge_index=[2, 26]), Data(x=[16, 16], edge_index=[2, 34]), Data(x=[14, 16], edge_index=[2, 30]), Data(x=[14, 16], edge_index=[2, 30]), Data(x=[16, 16], edge_index=[2, 34]), Data(x=[14, 16], edge_index=[2, 30]), Data(x=[14, 16], edge_index=[2, 28]), Data(x=[16, 16], edge_index=[2, 32]), Data(x=[13, 16], edge_index=[2, 26]), Data(x=[18, 16], edge_index=[2, 36]), Data(x=[16, 16], edge_index=[2, 32]), Data(x=[14, 16], edge_index=[2, 28]), Data(x=[14, 16], edge_index=[2, 28]), Data(x=[16, 16], edge_index=[2, 34]), Data(x=[14, 16], edge_index=[2, 30]), Data(x=[12, 16], edge_index=[2, 26]), Data(x=[16, 16], edge_index=[2, 34]), Data(x=[14, 16], edge_index=[2, 30]), Data(x=[14, 16], edge_index=[2, 30]), Data(x=[12, 16], edge_index=[2, 26]), Data(x=[14, 16], edge_index=[2, 30]), Data(x=[11, 16], edge_index=[2, 24]), Data(x=[13, 16], edge_index=[2, 28]), Data(x=[12, 16], edge_index=[2, 26]), Data(x=[16, 16], edge_index=[2, 34]), Data(x=[14, 16], edge_index=[2, 30]), Data(x=[14, 16], edge_index=[2, 30]), Data(x=[12, 16], edge_index=[2, 26]), Data(x=[14, 16], edge_index=[2, 30]), Data(x=[13, 16], edge_index=[2, 28]), Data(x=[12, 16], edge_index=[2, 26]), Data(x=[11, 16], edge_index=[2, 24]), Data(x=[12, 16], edge_index=[2, 26]), Data(x=[11, 16], edge_index=[2, 24]), Data(x=[11, 16], edge_index=[2, 24]), Data(x=[10, 16], edge_index=[2, 22]), Data(x=[11, 16], edge_index=[2, 24]), Data(x=[11, 16], edge_index=[2, 24]), Data(x=[10, 16], edge_index=[2, 22]), Data(x=[16, 16], edge_index=[2, 34]), Data(x=[14, 16], edge_index=[2, 30]), Data(x=[14, 16], edge_index=[2, 30]), Data(x=[14, 16], edge_index=[2, 30]), Data(x=[13, 16], edge_index=[2, 28]), Data(x=[12, 16], edge_index=[2, 26]), Data(x=[13, 16], edge_index=[2, 28]), Data(x=[14, 16], edge_index=[2, 32]), Data(x=[13, 16], edge_index=[2, 30]), Data(x=[12, 16], edge_index=[2, 28]), Data(x=[10, 16], edge_index=[2, 24]), Data(x=[16, 16], edge_index=[2, 34]), Data(x=[14, 16], edge_index=[2, 30]), Data(x=[15, 16], edge_index=[2, 32]), Data(x=[14, 16], edge_index=[2, 30]), Data(x=[13, 16], edge_index=[2, 28]), Data(x=[12, 16], edge_index=[2, 26]), Data(x=[14, 16], edge_index=[2, 32]), Data(x=[13, 16], edge_index=[2, 30]), Data(x=[12, 16], edge_index=[2, 28]), Data(x=[13, 16], edge_index=[2, 30]), Data(x=[12, 16], edge_index=[2, 28]), Data(x=[11, 16], edge_index=[2, 26]), Data(x=[10, 16], edge_index=[2, 24]), Data(x=[13, 16], edge_index=[2, 30]), Data(x=[14, 16], edge_index=[2, 32]), Data(x=[13, 16], edge_index=[2, 30]), Data(x=[13, 16], edge_index=[2, 30]), Data(x=[12, 16], edge_index=[2, 28]), Data(x=[12, 16], edge_index=[2, 30]), Data(x=[11, 16], edge_index=[2, 28]), Data(x=[10, 16], edge_index=[2, 20]), Data(x=[9, 16], edge_index=[2, 18]), Data(x=[8, 16], edge_index=[2, 16]), Data(x=[8, 16], edge_index=[2, 16]), Data(x=[8, 16], edge_index=[2, 16]), Data(x=[12, 16], edge_index=[2, 24]), Data(x=[11, 16], edge_index=[2, 22]), Data(x=[11, 16], edge_index=[2, 22]), Data(x=[10, 16], edge_index=[2, 20]), Data(x=[12, 16], edge_index=[2, 24]), Data(x=[11, 16], edge_index=[2, 22]), Data(x=[11, 16], edge_index=[2, 22]), Data(x=[10, 16], edge_index=[2, 20]), Data(x=[11, 16], edge_index=[2, 22]), Data(x=[10, 16], edge_index=[2, 20]), Data(x=[12, 16], edge_index=[2, 24]), Data(x=[11, 16], edge_index=[2, 22]), Data(x=[11, 16], edge_index=[2, 22]), Data(x=[10, 16], edge_index=[2, 20]), Data(x=[11, 16], edge_index=[2, 22]), Data(x=[10, 16], edge_index=[2, 20]), Data(x=[10, 16], edge_index=[2, 20]), Data(x=[9, 16], edge_index=[2, 18]), Data(x=[12, 16], edge_index=[2, 24]), Data(x=[11, 16], edge_index=[2, 22]), Data(x=[11, 16], edge_index=[2, 22]), Data(x=[11, 16], edge_index=[2, 22]), Data(x=[10, 16], edge_index=[2, 20]), Data(x=[11, 16], edge_index=[2, 22]), Data(x=[10, 16], edge_index=[2, 20]), Data(x=[9, 16], edge_index=[2, 18]), Data(x=[9, 16], edge_index=[2, 18]), Data(x=[10, 16], edge_index=[2, 20]), Data(x=[10, 16], edge_index=[2, 20]), Data(x=[9, 16], edge_index=[2, 18]), Data(x=[11, 16], edge_index=[2, 22]), Data(x=[10, 16], edge_index=[2, 20]), Data(x=[10, 16], edge_index=[2, 20]), Data(x=[9, 16], edge_index=[2, 18]), Data(x=[10, 16], edge_index=[2, 20]), Data(x=[9, 16], edge_index=[2, 18]), Data(x=[11, 16], edge_index=[2, 22]), Data(x=[10, 16], edge_index=[2, 20]), Data(x=[10, 16], edge_index=[2, 20]), Data(x=[9, 16], edge_index=[2, 18]), Data(x=[10, 16], edge_index=[2, 20]), Data(x=[9, 16], edge_index=[2, 18]), Data(x=[9, 16], edge_index=[2, 18]), Data(x=[8, 16], edge_index=[2, 16]), Data(x=[9, 16], edge_index=[2, 18]), Data(x=[8, 16], edge_index=[2, 16]), Data(x=[8, 16], edge_index=[2, 16]), Data(x=[7, 16], edge_index=[2, 14]), Data(x=[7, 16], edge_index=[2, 14]), Data(x=[6, 16], edge_index=[2, 12]), Data(x=[10, 16], edge_index=[2, 20]), Data(x=[10, 16], edge_index=[2, 20]), Data(x=[9, 16], edge_index=[2, 18]), Data(x=[9, 16], edge_index=[2, 18]), Data(x=[10, 16], edge_index=[2, 20]), Data(x=[9, 16], edge_index=[2, 18]), Data(x=[9, 16], edge_index=[2, 18]), Data(x=[8, 16], edge_index=[2, 16]), Data(x=[9, 16], edge_index=[2, 18]), Data(x=[8, 16], edge_index=[2, 16]), Data(x=[7, 16], edge_index=[2, 14]), Data(x=[14, 16], edge_index=[2, 26]), Data(x=[14, 16], edge_index=[2, 26]), Data(x=[13, 16], edge_index=[2, 24]), Data(x=[14, 16], edge_index=[2, 26]), Data(x=[16, 16], edge_index=[2, 30]), Data(x=[18, 16], edge_index=[2, 34]), Data(x=[16, 16], edge_index=[2, 30]), Data(x=[16, 16], edge_index=[2, 30]), Data(x=[13, 16], edge_index=[2, 24]), Data(x=[18, 16], edge_index=[2, 34]), Data(x=[16, 16], edge_index=[2, 30]), Data(x=[16, 16], edge_index=[2, 32]), Data(x=[15, 16], edge_index=[2, 30]), Data(x=[14, 16], edge_index=[2, 28]), Data(x=[10, 16], edge_index=[2, 18]), Data(x=[14, 16], edge_index=[2, 26]), Data(x=[12, 16], edge_index=[2, 22]), Data(x=[18, 16], edge_index=[2, 34]), Data(x=[16, 16], edge_index=[2, 30]), Data(x=[16, 16], edge_index=[2, 32]), Data(x=[15, 16], edge_index=[2, 30]), Data(x=[14, 16], edge_index=[2, 28]), Data(x=[14, 16], edge_index=[2, 28]), Data(x=[14, 16], edge_index=[2, 28]), Data(x=[14, 16], edge_index=[2, 28]), Data(x=[13, 16], edge_index=[2, 26]), Data(x=[16, 16], edge_index=[2, 32]), Data(x=[14, 16], edge_index=[2, 28]), Data(x=[16, 16], edge_index=[2, 32]), Data(x=[15, 16], edge_index=[2, 30]), Data(x=[14, 16], edge_index=[2, 28]), Data(x=[14, 16], edge_index=[2, 30]), Data(x=[13, 16], edge_index=[2, 28]), Data(x=[12, 16], edge_index=[2, 26]), Data(x=[13, 16], edge_index=[2, 28]), Data(x=[7, 16], edge_index=[2, 12]), Data(x=[6, 16], edge_index=[2, 10]), Data(x=[7, 16], edge_index=[2, 12]), Data(x=[10, 16], edge_index=[2, 18]), Data(x=[9, 16], edge_index=[2, 16]), Data(x=[11, 16], edge_index=[2, 20]), Data(x=[16, 16], edge_index=[2, 32]), Data(x=[15, 16], edge_index=[2, 30]), Data(x=[15, 16], edge_index=[2, 30]), Data(x=[14, 16], edge_index=[2, 28]), Data(x=[14, 16], edge_index=[2, 28]), Data(x=[13, 16], edge_index=[2, 26]), Data(x=[15, 16], edge_index=[2, 30]), Data(x=[14, 16], edge_index=[2, 28]), Data(x=[13, 16], edge_index=[2, 26]), Data(x=[14, 16], edge_index=[2, 28]), Data(x=[13, 16], edge_index=[2, 26]), Data(x=[12, 16], edge_index=[2, 24]), Data(x=[15, 16], edge_index=[2, 30]), Data(x=[14, 16], edge_index=[2, 28]), Data(x=[13, 16], edge_index=[2, 26]), Data(x=[13, 16], edge_index=[2, 26]), Data(x=[12, 16], edge_index=[2, 24]), Data(x=[14, 16], edge_index=[2, 28]), Data(x=[13, 16], edge_index=[2, 26]), Data(x=[13, 16], edge_index=[2, 26]), Data(x=[12, 16], edge_index=[2, 24]), Data(x=[13, 16], edge_index=[2, 26]), Data(x=[12, 16], edge_index=[2, 24]), Data(x=[11, 16], edge_index=[2, 22]), Data(x=[12, 16], edge_index=[2, 24]), Data(x=[12, 16], edge_index=[2, 24]), Data(x=[11, 16], edge_index=[2, 22]), Data(x=[12, 16], edge_index=[2, 24]), Data(x=[11, 16], edge_index=[2, 22]), Data(x=[16, 16], edge_index=[2, 32]), Data(x=[15, 16], edge_index=[2, 30]), Data(x=[15, 16], edge_index=[2, 30]), Data(x=[14, 16], edge_index=[2, 28]), Data(x=[14, 16], edge_index=[2, 28]), Data(x=[14, 16], edge_index=[2, 28]), Data(x=[13, 16], edge_index=[2, 26]), Data(x=[13, 16], edge_index=[2, 26]), Data(x=[12, 16], edge_index=[2, 24]), Data(x=[13, 16], edge_index=[2, 26]), Data(x=[13, 16], edge_index=[2, 26]), Data(x=[14, 16], edge_index=[2, 28]), Data(x=[13, 16], edge_index=[2, 26]), Data(x=[13, 16], edge_index=[2, 26]), Data(x=[12, 16], edge_index=[2, 24]), Data(x=[12, 16], edge_index=[2, 24]), Data(x=[12, 16], edge_index=[2, 24]), Data(x=[11, 16], edge_index=[2, 22]), Data(x=[12, 16], edge_index=[2, 24]), Data(x=[11, 16], edge_index=[2, 22]), Data(x=[13, 16], edge_index=[2, 26]), Data(x=[12, 16], edge_index=[2, 24]), Data(x=[13, 16], edge_index=[2, 26]), Data(x=[11, 16], edge_index=[2, 22]), Data(x=[12, 16], edge_index=[2, 24]), Data(x=[11, 16], edge_index=[2, 22]), Data(x=[11, 16], edge_index=[2, 22]), Data(x=[10, 16], edge_index=[2, 20]), Data(x=[11, 16], edge_index=[2, 22]), Data(x=[10, 16], edge_index=[2, 20]), Data(x=[11, 16], edge_index=[2, 22]), Data(x=[16, 16], edge_index=[2, 32]), Data(x=[15, 16], edge_index=[2, 30]), Data(x=[14, 16], edge_index=[2, 28]), Data(x=[15, 16], edge_index=[2, 30]), Data(x=[14, 16], edge_index=[2, 28]), Data(x=[13, 16], edge_index=[2, 26]), Data(x=[11, 16], edge_index=[2, 22]), Data(x=[11, 16], edge_index=[2, 22]), Data(x=[11, 16], edge_index=[2, 22]), Data(x=[10, 16], edge_index=[2, 20]), Data(x=[9, 16], edge_index=[2, 18]), Data(x=[11, 16], edge_index=[2, 22]), Data(x=[11, 16], edge_index=[2, 22]), Data(x=[11, 16], edge_index=[2, 22]), Data(x=[11, 16], edge_index=[2, 22]), Data(x=[10, 16], edge_index=[2, 20]), Data(x=[12, 16], edge_index=[2, 24]), Data(x=[11, 16], edge_index=[2, 22]), Data(x=[11, 16], edge_index=[2, 22]), Data(x=[11, 16], edge_index=[2, 22]), Data(x=[10, 16], edge_index=[2, 20]), Data(x=[11, 16], edge_index=[2, 22]), Data(x=[10, 16], edge_index=[2, 20]), Data(x=[10, 16], edge_index=[2, 20]), Data(x=[10, 16], edge_index=[2, 20]), Data(x=[9, 16], edge_index=[2, 18]), Data(x=[15, 16], edge_index=[2, 30]), Data(x=[14, 16], edge_index=[2, 28]), Data(x=[14, 16], edge_index=[2, 28]), Data(x=[13, 16], edge_index=[2, 26]), Data(x=[13, 16], edge_index=[2, 26]), Data(x=[14, 16], edge_index=[2, 28]), Data(x=[13, 16], edge_index=[2, 26]), Data(x=[13, 16], edge_index=[2, 26]), Data(x=[13, 16], edge_index=[2, 26]), Data(x=[12, 16], edge_index=[2, 24]), Data(x=[14, 16], edge_index=[2, 28]), Data(x=[13, 16], edge_index=[2, 26]), Data(x=[12, 16], edge_index=[2, 24]), Data(x=[12, 16], edge_index=[2, 24]), Data(x=[13, 16], edge_index=[2, 26]), Data(x=[12, 16], edge_index=[2, 24]), Data(x=[12, 16], edge_index=[2, 24]), Data(x=[12, 16], edge_index=[2, 24]), Data(x=[11, 16], edge_index=[2, 22]), Data(x=[13, 16], edge_index=[2, 26]), Data(x=[12, 16], edge_index=[2, 24]), Data(x=[12, 16], edge_index=[2, 24]), Data(x=[11, 16], edge_index=[2, 22]), Data(x=[11, 16], edge_index=[2, 22]), Data(x=[12, 16], edge_index=[2, 24]), Data(x=[11, 16], edge_index=[2, 22]), Data(x=[11, 16], edge_index=[2, 22]), Data(x=[11, 16], edge_index=[2, 22]), Data(x=[10, 16], edge_index=[2, 20]), Data(x=[16, 16], edge_index=[2, 32]), Data(x=[15, 16], edge_index=[2, 30]), Data(x=[15, 16], edge_index=[2, 30]), Data(x=[14, 16], edge_index=[2, 28]), Data(x=[15, 16], edge_index=[2, 30]), Data(x=[14, 16], edge_index=[2, 28]), Data(x=[13, 16], edge_index=[2, 26]), Data(x=[15, 16], edge_index=[2, 30]), Data(x=[14, 16], edge_index=[2, 28]), Data(x=[13, 16], edge_index=[2, 26]), Data(x=[14, 16], edge_index=[2, 28]), Data(x=[13, 16], edge_index=[2, 26]), Data(x=[13, 16], edge_index=[2, 26]), Data(x=[12, 16], edge_index=[2, 24]), Data(x=[14, 16], edge_index=[2, 28]), Data(x=[13, 16], edge_index=[2, 26]), Data(x=[13, 16], edge_index=[2, 26]), Data(x=[12, 16], edge_index=[2, 24]), Data(x=[13, 16], edge_index=[2, 26]), Data(x=[12, 16], edge_index=[2, 24]), Data(x=[12, 16], edge_index=[2, 24]), Data(x=[11, 16], edge_index=[2, 22]), Data(x=[13, 16], edge_index=[2, 26]), Data(x=[12, 16], edge_index=[2, 24]), Data(x=[12, 16], edge_index=[2, 24]), Data(x=[12, 16], edge_index=[2, 24]), Data(x=[11, 16], edge_index=[2, 22]), Data(x=[16, 16], edge_index=[2, 32]), Data(x=[15, 16], edge_index=[2, 30]), Data(x=[14, 16], edge_index=[2, 28]), Data(x=[15, 16], edge_index=[2, 30]), Data(x=[14, 16], edge_index=[2, 28]), Data(x=[14, 16], edge_index=[2, 28]), Data(x=[13, 16], edge_index=[2, 26]), Data(x=[13, 16], edge_index=[2, 26]), Data(x=[12, 16], edge_index=[2, 24]), Data(x=[16, 16], edge_index=[2, 32]), Data(x=[15, 16], edge_index=[2, 30]), Data(x=[14, 16], edge_index=[2, 28]), Data(x=[15, 16], edge_index=[2, 30]), Data(x=[13, 16], edge_index=[2, 26]), Data(x=[15, 16], edge_index=[2, 30]), Data(x=[13, 16], edge_index=[2, 26]), Data(x=[13, 16], edge_index=[2, 26]), Data(x=[13, 16], edge_index=[2, 26]), Data(x=[12, 16], edge_index=[2, 24]), Data(x=[11, 16], edge_index=[2, 22]), Data(x=[11, 16], edge_index=[2, 22]), Data(x=[10, 16], edge_index=[2, 20]), Data(x=[11, 16], edge_index=[2, 22]), Data(x=[10, 16], edge_index=[2, 20]), Data(x=[11, 16], edge_index=[2, 22]), Data(x=[10, 16], edge_index=[2, 20]), Data(x=[10, 16], edge_index=[2, 20]), Data(x=[9, 16], edge_index=[2, 18]), Data(x=[10, 16], edge_index=[2, 20]), Data(x=[9, 16], edge_index=[2, 18]), Data(x=[12, 16], edge_index=[2, 24]), Data(x=[11, 16], edge_index=[2, 22]), Data(x=[11, 16], edge_index=[2, 22]), Data(x=[10, 16], edge_index=[2, 20]), Data(x=[11, 16], edge_index=[2, 22]), Data(x=[10, 16], edge_index=[2, 20]), Data(x=[10, 16], edge_index=[2, 20]), Data(x=[9, 16], edge_index=[2, 18]), Data(x=[12, 16], edge_index=[2, 24]), Data(x=[11, 16], edge_index=[2, 22]), Data(x=[11, 16], edge_index=[2, 22]), Data(x=[10, 16], edge_index=[2, 20]), Data(x=[11, 16], edge_index=[2, 22]), Data(x=[10, 16], edge_index=[2, 20]), Data(x=[12, 16], edge_index=[2, 24]), Data(x=[11, 16], edge_index=[2, 22])]\n"
     ]
    }
   ],
   "source": [
    "# Define the number of graphs to process since they are much more than 1000\n",
    "num_graphs_to_process = 1000\n",
    "data_list = []  # List to store Data objects for each graph\n",
    "\n",
    "for g_id in range(num_graphs_to_process):\n",
    "    # Identify nodes belonging to the current graph\n",
    "    graph_nodes = torch.where(graph_indicator == g_id)[0]\n",
    "    \n",
    "    # Select node features for this graph\n",
    "    x = node_features[graph_nodes]\n",
    "    \n",
    "    # Filter edges for this graph based on the graph_indicator\n",
    "    mask = (graph_indicator[edge_index[0]] == g_id) & (graph_indicator[edge_index[1]] == g_id)\n",
    "    edge_index_graph = edge_index[:, mask]\n",
    "    \n",
    "    # Reindex the edges for this graph\n",
    "    node_map = {old_idx: new_idx for new_idx, old_idx in enumerate(graph_nodes.tolist())}\n",
    "    edge_index_graph = torch.tensor([\n",
    "        [node_map[i.item()] for i in edge_index_graph[0]],\n",
    "        [node_map[i.item()] for i in edge_index_graph[1]]\n",
    "    ], dtype=torch.long)\n",
    "    \n",
    "    # Create the Data object for the current graph and add it to the list\n",
    "    data = Data(x=x, edge_index=edge_index_graph)\n",
    "    data_list.append(data)\n",
    "print(data_list)\n"
   ]
  },
  {
   "cell_type": "code",
   "execution_count": 94,
   "id": "8eb862cb",
   "metadata": {},
   "outputs": [],
   "source": [
    "def generate_feature_mask(feature_matrix: torch.Tensor) -> torch.Tensor:\n",
    "    \"\"\"\n",
    "    Generates a feature type mask indicating discrete and continuous features for all features in a graph.\n",
    "\n",
    "    Args:\n",
    "        feature_matrix (torch.Tensor): Node feature matrix (num_nodes, num_features).\n",
    "\n",
    "    Returns:\n",
    "        torch.Tensor: A mask where 1 indicates discrete features and 0 indicates continuous features.\n",
    "    \"\"\"\n",
    "    # Detect discrete indices\n",
    "    discrete_indices = detect_discrete_indices(feature_matrix)\n",
    "\n",
    "    # Initialize a mask with zeros (all features are continuous by default)\n",
    "    feature_types = torch.zeros(feature_matrix.size(1), dtype=torch.int)\n",
    "\n",
    "    # Set discrete feature indices to 1\n",
    "    feature_types[discrete_indices] = 1\n",
    "\n",
    "    return feature_types"
   ]
  },
  {
   "cell_type": "code",
   "execution_count": 110,
   "id": "eccb5cb6",
   "metadata": {},
   "outputs": [
    {
     "name": "stdout",
     "output_type": "stream",
     "text": [
      "Feature Types Mask: tensor([1, 1, 1, 1, 1, 1, 1, 1, 1, 1, 1, 1, 1, 0, 1, 1], dtype=torch.int32)\n"
     ]
    }
   ],
   "source": [
    "feature_types = generate_feature_mask(data_list[3].x)\n",
    "print(\"Feature Types Mask:\", feature_types)"
   ]
  },
  {
   "cell_type": "code",
   "execution_count": 112,
   "id": "a486f4ba",
   "metadata": {},
   "outputs": [
    {
     "name": "stdout",
     "output_type": "stream",
     "text": [
      "tensor([[ 0.0000,  1.0000,  0.0000,  0.0000,  0.0000,  6.0000,  0.0000,  0.0000,\n",
      "          0.0000,  1.0000,  0.0000,  0.0000,  1.0000,  0.5995,  0.0000,  1.0000],\n",
      "        [ 0.0000,  1.0000,  0.0000,  0.0000,  0.0000,  6.0000,  0.0000,  0.0000,\n",
      "          0.0000,  1.0000,  0.0000,  0.0000,  1.0000, -0.5995,  0.0000,  1.0000],\n",
      "        [ 1.0000,  0.0000,  0.0000,  0.0000,  0.0000,  1.0000,  0.0000,  0.0000,\n",
      "          0.0000,  0.0000,  0.0000,  0.0000,  0.0000, -1.6616,  0.0000,  1.0000],\n",
      "        [ 1.0000,  0.0000,  0.0000,  0.0000,  0.0000,  1.0000,  0.0000,  0.0000,\n",
      "          0.0000,  0.0000,  0.0000,  0.0000,  0.0000,  1.6616,  0.0000,  1.0000]])\n",
      "tensor([[1., 1., 1., 1., 1., 1., 1., 1., 1., 1., 1., 1., 1., 1., 1., 1.],\n",
      "        [1., 1., 1., 1., 1., 1., 1., 1., 1., 1., 1., 1., 1., 1., 1., 1.],\n",
      "        [1., 1., 1., 1., 1., 1., 1., 1., 1., 1., 1., 1., 1., 1., 1., 1.],\n",
      "        [1., 1., 1., 1., 1., 1., 1., 1., 1., 1., 1., 1., 1., 1., 1., 1.]])\n"
     ]
    }
   ],
   "source": [
    "print(data_list[3].x)\n",
    "P = torch.ones(data_list[3].x.size())\n",
    "print(P)"
   ]
  },
  {
   "cell_type": "code",
   "execution_count": 121,
   "id": "1d20f8d8",
   "metadata": {},
   "outputs": [],
   "source": [
    "def forward(V_x: Tensor, P_x: Tensor, feature_types: Tensor) -> Tensor:\n",
    "    \"\"\"\n",
    "    Differentiable forward pass for training.\n",
    "\n",
    "    Args:\n",
    "        V_x (Tensor): Original node feature matrix (num_nodes, num_features).\n",
    "        P_x (Tensor): Perturbation matrix (num_nodes, num_features).\n",
    "        feature_types (Tensor): Feature type mask (1 for discrete, 0 for continuous).\n",
    "\n",
    "    Returns:\n",
    "        Tensor: Perturbed feature matrix (V_pert) with continuous perturbations.\n",
    "    \"\"\"\n",
    "    # Apply sigmoid to create continuous perturbations\n",
    "    real_perturbations = F.sigmoid(P_x)\n",
    "\n",
    "    features_add = False\n",
    "    if not features_add:\n",
    "        # Apply continuous perturbations to input features\n",
    "        V_pert = real_perturbations * V_x\n",
    "    else:\n",
    "        # Use perturbations directly if features_add is True\n",
    "        V_pert = real_perturbations\n",
    "\n",
    "    return V_pert, real_perturbations, P_x\n",
    "def forward_prediction(V_x: Tensor, P_x: Tensor, feature_types: Tensor) -> Tuple[Tensor, Tensor, Tensor]:\n",
    "    \n",
    "    real_perturbations = F.sigmoid(P_x)\n",
    "    \n",
    "    # Binary thresholding for discrete features\n",
    "    binary_perturbations = (real_perturbations >= 0.5).float()\n",
    "    \n",
    "    perturbations = torch.where(feature_types == 1, binary_perturbations, real_perturbations)\n",
    "    \n",
    "    features_add = False \n",
    "    \n",
    "    # Apply perturbations to the input features\n",
    "    if not features_add:\n",
    "        \n",
    "        V_pert = perturbations * V_x\n",
    "    else:\n",
    "        \n",
    "        V_pert = perturbations  # Use perturbations directly if features_add is True\n",
    "\n",
    "    return V_pert, perturbations, P_x"
   ]
  },
  {
   "cell_type": "code",
   "execution_count": 122,
   "id": "9b3c3421",
   "metadata": {},
   "outputs": [
    {
     "name": "stdout",
     "output_type": "stream",
     "text": [
      "tensor([[ 0.0000,  0.7311,  0.0000,  0.0000,  0.0000,  4.3864,  0.0000,  0.0000,\n",
      "          0.0000,  0.7311,  0.0000,  0.0000,  0.7311,  0.4383,  0.0000,  0.7311],\n",
      "        [ 0.0000,  0.7311,  0.0000,  0.0000,  0.0000,  4.3864,  0.0000,  0.0000,\n",
      "          0.0000,  0.7311,  0.0000,  0.0000,  0.7311, -0.4383,  0.0000,  0.7311],\n",
      "        [ 0.7311,  0.0000,  0.0000,  0.0000,  0.0000,  0.7311,  0.0000,  0.0000,\n",
      "          0.0000,  0.0000,  0.0000,  0.0000,  0.0000, -1.2147,  0.0000,  0.7311],\n",
      "        [ 0.7311,  0.0000,  0.0000,  0.0000,  0.0000,  0.7311,  0.0000,  0.0000,\n",
      "          0.0000,  0.0000,  0.0000,  0.0000,  0.0000,  1.2147,  0.0000,  0.7311]])\n",
      "tensor([[0.7311, 0.7311, 0.7311, 0.7311, 0.7311, 0.7311, 0.7311, 0.7311, 0.7311,\n",
      "         0.7311, 0.7311, 0.7311, 0.7311, 0.7311, 0.7311, 0.7311],\n",
      "        [0.7311, 0.7311, 0.7311, 0.7311, 0.7311, 0.7311, 0.7311, 0.7311, 0.7311,\n",
      "         0.7311, 0.7311, 0.7311, 0.7311, 0.7311, 0.7311, 0.7311],\n",
      "        [0.7311, 0.7311, 0.7311, 0.7311, 0.7311, 0.7311, 0.7311, 0.7311, 0.7311,\n",
      "         0.7311, 0.7311, 0.7311, 0.7311, 0.7311, 0.7311, 0.7311],\n",
      "        [0.7311, 0.7311, 0.7311, 0.7311, 0.7311, 0.7311, 0.7311, 0.7311, 0.7311,\n",
      "         0.7311, 0.7311, 0.7311, 0.7311, 0.7311, 0.7311, 0.7311]])\n",
      "tensor([[1., 1., 1., 1., 1., 1., 1., 1., 1., 1., 1., 1., 1., 1., 1., 1.],\n",
      "        [1., 1., 1., 1., 1., 1., 1., 1., 1., 1., 1., 1., 1., 1., 1., 1.],\n",
      "        [1., 1., 1., 1., 1., 1., 1., 1., 1., 1., 1., 1., 1., 1., 1., 1.],\n",
      "        [1., 1., 1., 1., 1., 1., 1., 1., 1., 1., 1., 1., 1., 1., 1., 1.]])\n",
      "tensor([[ 0.0000,  1.0000,  0.0000,  0.0000,  0.0000,  6.0000,  0.0000,  0.0000,\n",
      "          0.0000,  1.0000,  0.0000,  0.0000,  1.0000,  0.5995,  0.0000,  1.0000],\n",
      "        [ 0.0000,  1.0000,  0.0000,  0.0000,  0.0000,  6.0000,  0.0000,  0.0000,\n",
      "          0.0000,  1.0000,  0.0000,  0.0000,  1.0000, -0.5995,  0.0000,  1.0000],\n",
      "        [ 1.0000,  0.0000,  0.0000,  0.0000,  0.0000,  1.0000,  0.0000,  0.0000,\n",
      "          0.0000,  0.0000,  0.0000,  0.0000,  0.0000, -1.6616,  0.0000,  1.0000],\n",
      "        [ 1.0000,  0.0000,  0.0000,  0.0000,  0.0000,  1.0000,  0.0000,  0.0000,\n",
      "          0.0000,  0.0000,  0.0000,  0.0000,  0.0000,  1.6616,  0.0000,  1.0000]])\n"
     ]
    }
   ],
   "source": [
    "T1, T2, T3 = forward(data_list[3].x, P, feature_types)\n",
    "print(T1)\n",
    "print(T2)\n",
    "print(T3)\n",
    "print(data_list[3].x)"
   ]
  },
  {
   "cell_type": "code",
   "execution_count": 124,
   "id": "dc3b7640",
   "metadata": {},
   "outputs": [
    {
     "name": "stdout",
     "output_type": "stream",
     "text": [
      "tensor([[ 0.0000,  1.0000,  0.0000,  0.0000,  0.0000,  6.0000,  0.0000,  0.0000,\n",
      "          0.0000,  1.0000,  0.0000,  0.0000,  1.0000,  0.4383,  0.0000,  1.0000],\n",
      "        [ 0.0000,  1.0000,  0.0000,  0.0000,  0.0000,  6.0000,  0.0000,  0.0000,\n",
      "          0.0000,  1.0000,  0.0000,  0.0000,  1.0000, -0.4383,  0.0000,  1.0000],\n",
      "        [ 1.0000,  0.0000,  0.0000,  0.0000,  0.0000,  1.0000,  0.0000,  0.0000,\n",
      "          0.0000,  0.0000,  0.0000,  0.0000,  0.0000, -1.2147,  0.0000,  1.0000],\n",
      "        [ 1.0000,  0.0000,  0.0000,  0.0000,  0.0000,  1.0000,  0.0000,  0.0000,\n",
      "          0.0000,  0.0000,  0.0000,  0.0000,  0.0000,  1.2147,  0.0000,  1.0000]])\n",
      "tensor([[1.0000, 1.0000, 1.0000, 1.0000, 1.0000, 1.0000, 1.0000, 1.0000, 1.0000,\n",
      "         1.0000, 1.0000, 1.0000, 1.0000, 0.7311, 1.0000, 1.0000],\n",
      "        [1.0000, 1.0000, 1.0000, 1.0000, 1.0000, 1.0000, 1.0000, 1.0000, 1.0000,\n",
      "         1.0000, 1.0000, 1.0000, 1.0000, 0.7311, 1.0000, 1.0000],\n",
      "        [1.0000, 1.0000, 1.0000, 1.0000, 1.0000, 1.0000, 1.0000, 1.0000, 1.0000,\n",
      "         1.0000, 1.0000, 1.0000, 1.0000, 0.7311, 1.0000, 1.0000],\n",
      "        [1.0000, 1.0000, 1.0000, 1.0000, 1.0000, 1.0000, 1.0000, 1.0000, 1.0000,\n",
      "         1.0000, 1.0000, 1.0000, 1.0000, 0.7311, 1.0000, 1.0000]])\n",
      "tensor([[1., 1., 1., 1., 1., 1., 1., 1., 1., 1., 1., 1., 1., 1., 1., 1.],\n",
      "        [1., 1., 1., 1., 1., 1., 1., 1., 1., 1., 1., 1., 1., 1., 1., 1.],\n",
      "        [1., 1., 1., 1., 1., 1., 1., 1., 1., 1., 1., 1., 1., 1., 1., 1.],\n",
      "        [1., 1., 1., 1., 1., 1., 1., 1., 1., 1., 1., 1., 1., 1., 1., 1.]])\n",
      "tensor([[ 0.0000,  1.0000,  0.0000,  0.0000,  0.0000,  6.0000,  0.0000,  0.0000,\n",
      "          0.0000,  1.0000,  0.0000,  0.0000,  1.0000,  0.5995,  0.0000,  1.0000],\n",
      "        [ 0.0000,  1.0000,  0.0000,  0.0000,  0.0000,  6.0000,  0.0000,  0.0000,\n",
      "          0.0000,  1.0000,  0.0000,  0.0000,  1.0000, -0.5995,  0.0000,  1.0000],\n",
      "        [ 1.0000,  0.0000,  0.0000,  0.0000,  0.0000,  1.0000,  0.0000,  0.0000,\n",
      "          0.0000,  0.0000,  0.0000,  0.0000,  0.0000, -1.6616,  0.0000,  1.0000],\n",
      "        [ 1.0000,  0.0000,  0.0000,  0.0000,  0.0000,  1.0000,  0.0000,  0.0000,\n",
      "          0.0000,  0.0000,  0.0000,  0.0000,  0.0000,  1.6616,  0.0000,  1.0000]])\n"
     ]
    }
   ],
   "source": [
    "T4, T5, T6 = forward_prediction(data_list[3].x, P, feature_types)\n",
    "print(T4)\n",
    "print(T5)\n",
    "print(T6)\n",
    "print(data_list[3].x)"
   ]
  },
  {
   "cell_type": "code",
   "execution_count": null,
   "id": "9ce0d0b8",
   "metadata": {},
   "outputs": [],
   "source": []
  }
 ],
 "metadata": {
  "kernelspec": {
   "display_name": "Python 3.9",
   "language": "python",
   "name": "myenv"
  },
  "language_info": {
   "codemirror_mode": {
    "name": "ipython",
    "version": 3
   },
   "file_extension": ".py",
   "mimetype": "text/x-python",
   "name": "python",
   "nbconvert_exporter": "python",
   "pygments_lexer": "ipython3",
   "version": "3.8.8"
  }
 },
 "nbformat": 4,
 "nbformat_minor": 5
}
